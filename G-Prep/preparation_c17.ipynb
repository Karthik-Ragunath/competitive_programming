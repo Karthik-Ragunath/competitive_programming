{
 "cells": [
  {
   "cell_type": "code",
   "execution_count": 98,
   "id": "understanding-tourism",
   "metadata": {},
   "outputs": [],
   "source": [
    "#include<bits/stdc++.h>\n",
    "using namespace std;"
   ]
  },
  {
   "cell_type": "code",
   "execution_count": 23,
   "id": "seasonal-fifteen",
   "metadata": {},
   "outputs": [],
   "source": [
    "vector<int> a{30, 20, 10, 40, 60, 15};"
   ]
  },
  {
   "cell_type": "code",
   "execution_count": 24,
   "id": "offensive-childhood",
   "metadata": {},
   "outputs": [
    {
     "data": {
      "text/plain": [
       "30"
      ]
     },
     "execution_count": 24,
     "metadata": {},
     "output_type": "execute_result"
    }
   ],
   "source": [
    "a[0]"
   ]
  },
  {
   "cell_type": "code",
   "execution_count": 25,
   "id": "speaking-prototype",
   "metadata": {},
   "outputs": [],
   "source": [
    "sort(a.begin(), a.end());"
   ]
  },
  {
   "cell_type": "code",
   "execution_count": 26,
   "id": "important-contract",
   "metadata": {},
   "outputs": [
    {
     "data": {
      "text/plain": [
       "{ 10, 15, 20, 30, 40, 60 }"
      ]
     },
     "execution_count": 26,
     "metadata": {},
     "output_type": "execute_result"
    }
   ],
   "source": [
    "a"
   ]
  },
  {
   "cell_type": "code",
   "execution_count": 27,
   "id": "optimum-thesaurus",
   "metadata": {},
   "outputs": [
    {
     "name": "stdout",
     "output_type": "stream",
     "text": [
      "10\n",
      "15\n",
      "20\n",
      "30\n",
      "40\n",
      "60\n"
     ]
    }
   ],
   "source": [
    "for(auto iter: a)\n",
    "{\n",
    "    cout << iter << \"\\n\";\n",
    "}"
   ]
  },
  {
   "cell_type": "code",
   "execution_count": 28,
   "id": "encouraging-actor",
   "metadata": {},
   "outputs": [],
   "source": [
    "int b = a.size();"
   ]
  },
  {
   "cell_type": "code",
   "execution_count": 29,
   "id": "billion-hungary",
   "metadata": {},
   "outputs": [
    {
     "data": {
      "text/plain": [
       "6"
      ]
     },
     "execution_count": 29,
     "metadata": {},
     "output_type": "execute_result"
    }
   ],
   "source": [
    "b"
   ]
  },
  {
   "cell_type": "code",
   "execution_count": 31,
   "id": "happy-continuity",
   "metadata": {},
   "outputs": [],
   "source": [
    "int target = 40;"
   ]
  },
  {
   "cell_type": "code",
   "execution_count": 33,
   "id": "transparent-advice",
   "metadata": {},
   "outputs": [],
   "source": [
    "unordered_map<int, int> hash_map; \n",
    "pair< int, int > sol_pair;"
   ]
  },
  {
   "cell_type": "code",
   "execution_count": 34,
   "id": "lesbian-maintenance",
   "metadata": {},
   "outputs": [],
   "source": [
    "for(int i = 0; i < a.size(); i++)\n",
    "{\n",
    "    int complement = target - a[i];\n",
    "    auto find_iter = hash_map.find(complement);\n",
    "    if(find_iter != hash_map.end())\n",
    "    {\n",
    "        sol_pair = make_pair(find_iter -> second, i);\n",
    "        break;\n",
    "    }\n",
    "    hash_map.insert(make_pair(a[i], i));\n",
    "}"
   ]
  },
  {
   "cell_type": "code",
   "execution_count": 36,
   "id": "colored-insight",
   "metadata": {},
   "outputs": [
    {
     "data": {
      "text/plain": [
       "0"
      ]
     },
     "execution_count": 36,
     "metadata": {},
     "output_type": "execute_result"
    }
   ],
   "source": [
    "sol_pair.first"
   ]
  },
  {
   "cell_type": "code",
   "execution_count": 83,
   "id": "decent-forth",
   "metadata": {},
   "outputs": [
    {
     "data": {
      "text/plain": [
       "3"
      ]
     },
     "execution_count": 83,
     "metadata": {},
     "output_type": "execute_result"
    }
   ],
   "source": [
    "sol_pair.second"
   ]
  },
  {
   "cell_type": "code",
   "execution_count": 84,
   "id": "pending-yeast",
   "metadata": {},
   "outputs": [],
   "source": [
    "// --------------------"
   ]
  },
  {
   "cell_type": "code",
   "execution_count": 38,
   "id": "level-masters",
   "metadata": {},
   "outputs": [],
   "source": [
    "vector< int > b{1,2,3,4,5};\n",
    "sort(b.begin(), b.end(), greater<int>());"
   ]
  },
  {
   "cell_type": "code",
   "execution_count": 39,
   "id": "marked-split",
   "metadata": {},
   "outputs": [
    {
     "data": {
      "text/plain": [
       "{ 5, 4, 3, 2, 1 }"
      ]
     },
     "execution_count": 39,
     "metadata": {},
     "output_type": "execute_result"
    }
   ],
   "source": [
    "b"
   ]
  },
  {
   "cell_type": "code",
   "execution_count": 40,
   "id": "changing-intensity",
   "metadata": {},
   "outputs": [
    {
     "data": {
      "text/plain": [
       "{ 10, 15, 20, 30, 40, 60 }"
      ]
     },
     "execution_count": 40,
     "metadata": {},
     "output_type": "execute_result"
    }
   ],
   "source": [
    "a"
   ]
  },
  {
   "cell_type": "code",
   "execution_count": 43,
   "id": "animated-freeze",
   "metadata": {},
   "outputs": [
    {
     "name": "stdout",
     "output_type": "stream",
     "text": [
      "found\n"
     ]
    }
   ],
   "source": [
    "if(binary_search(a.begin(), a.end(), 20))\n",
    "{\n",
    "    cout << \"found\" << \"\\n\";\n",
    "}\n",
    "else\n",
    "{\n",
    "    cout << \"not found\" << \"\\n\";\n",
    "}"
   ]
  },
  {
   "cell_type": "code",
   "execution_count": 45,
   "id": "decimal-statement",
   "metadata": {},
   "outputs": [],
   "source": [
    "auto iter_lower_bound = lower_bound(a.begin(), a.end(), 20);"
   ]
  },
  {
   "cell_type": "code",
   "execution_count": 47,
   "id": "sonic-latin",
   "metadata": {},
   "outputs": [],
   "source": [
    "int index_found = iter_lower_bound - a.begin();"
   ]
  },
  {
   "cell_type": "code",
   "execution_count": 48,
   "id": "prostate-salvation",
   "metadata": {},
   "outputs": [
    {
     "data": {
      "text/plain": [
       "2"
      ]
     },
     "execution_count": 48,
     "metadata": {},
     "output_type": "execute_result"
    }
   ],
   "source": [
    "index_found"
   ]
  },
  {
   "cell_type": "code",
   "execution_count": 49,
   "id": "surrounded-villa",
   "metadata": {},
   "outputs": [],
   "source": [
    "auto iter_upper_bound = upper_bound(a.begin(), a.end(), 20);"
   ]
  },
  {
   "cell_type": "code",
   "execution_count": 51,
   "id": "expensive-reynolds",
   "metadata": {},
   "outputs": [],
   "source": [
    "int index_found = iter_upper_bound - a.begin();"
   ]
  },
  {
   "cell_type": "code",
   "execution_count": 52,
   "id": "pursuant-oasis",
   "metadata": {},
   "outputs": [
    {
     "data": {
      "text/plain": [
       "3"
      ]
     },
     "execution_count": 52,
     "metadata": {},
     "output_type": "execute_result"
    }
   ],
   "source": [
    "index_found"
   ]
  },
  {
   "cell_type": "code",
   "execution_count": 55,
   "id": "adopted-reality",
   "metadata": {},
   "outputs": [],
   "source": [
    "auto lb = lower_bound(a.begin(), a.end(), 17);\n",
    "int lb_ind = lb - a.begin();"
   ]
  },
  {
   "cell_type": "code",
   "execution_count": 56,
   "id": "manual-estonia",
   "metadata": {},
   "outputs": [
    {
     "data": {
      "text/plain": [
       "2"
      ]
     },
     "execution_count": 56,
     "metadata": {},
     "output_type": "execute_result"
    }
   ],
   "source": [
    "lb_ind"
   ]
  },
  {
   "cell_type": "code",
   "execution_count": 57,
   "id": "ignored-calcium",
   "metadata": {},
   "outputs": [],
   "source": [
    "auto ub = upper_bound(a.begin(), a.end(), 17);\n",
    "int ub_index = ub - a.begin();"
   ]
  },
  {
   "cell_type": "code",
   "execution_count": 58,
   "id": "exciting-development",
   "metadata": {},
   "outputs": [
    {
     "data": {
      "text/plain": [
       "2"
      ]
     },
     "execution_count": 58,
     "metadata": {},
     "output_type": "execute_result"
    }
   ],
   "source": [
    "ub_index"
   ]
  },
  {
   "cell_type": "code",
   "execution_count": 59,
   "id": "eight-grade",
   "metadata": {},
   "outputs": [],
   "source": [
    "vector<int> a{1,3};\n",
    "vector<int> b{2};"
   ]
  },
  {
   "cell_type": "code",
   "execution_count": 60,
   "id": "drawn-andorra",
   "metadata": {},
   "outputs": [],
   "source": [
    "int size_a = a.size();\n",
    "int size_b = b.size();"
   ]
  },
  {
   "cell_type": "code",
   "execution_count": 61,
   "id": "important-intake",
   "metadata": {},
   "outputs": [],
   "source": [
    "vector<int> c = a;"
   ]
  },
  {
   "cell_type": "code",
   "execution_count": 62,
   "id": "auburn-proportion",
   "metadata": {},
   "outputs": [
    {
     "data": {
      "text/plain": [
       "{ 1, 3 }"
      ]
     },
     "execution_count": 62,
     "metadata": {},
     "output_type": "execute_result"
    }
   ],
   "source": [
    "c"
   ]
  },
  {
   "cell_type": "code",
   "execution_count": 63,
   "id": "detected-combination",
   "metadata": {},
   "outputs": [],
   "source": [
    "c[1] = 5;"
   ]
  },
  {
   "cell_type": "code",
   "execution_count": 64,
   "id": "together-while",
   "metadata": {},
   "outputs": [
    {
     "data": {
      "text/plain": [
       "{ 1, 5 }"
      ]
     },
     "execution_count": 64,
     "metadata": {},
     "output_type": "execute_result"
    }
   ],
   "source": [
    "c"
   ]
  },
  {
   "cell_type": "code",
   "execution_count": 65,
   "id": "unnecessary-finding",
   "metadata": {},
   "outputs": [
    {
     "data": {
      "text/plain": [
       "{ 1, 3 }"
      ]
     },
     "execution_count": 65,
     "metadata": {},
     "output_type": "execute_result"
    }
   ],
   "source": [
    "a"
   ]
  },
  {
   "cell_type": "code",
   "execution_count": 66,
   "id": "potential-button",
   "metadata": {},
   "outputs": [],
   "source": [
    "vector< int > vec_1;\n",
    "vector< int > vec_2;"
   ]
  },
  {
   "cell_type": "code",
   "execution_count": 67,
   "id": "native-bradford",
   "metadata": {},
   "outputs": [],
   "source": [
    "if(size_a >= size_b)\n",
    "{\n",
    "    vec_1 = a;\n",
    "    vec_2 = b;\n",
    "}\n",
    "else\n",
    "{\n",
    "    vec_1 = b;\n",
    "    vec_2 = a;\n",
    "}"
   ]
  },
  {
   "cell_type": "code",
   "execution_count": 68,
   "id": "suffering-community",
   "metadata": {},
   "outputs": [
    {
     "data": {
      "text/plain": [
       "{ 1, 3 }"
      ]
     },
     "execution_count": 68,
     "metadata": {},
     "output_type": "execute_result"
    }
   ],
   "source": [
    "vec_1"
   ]
  },
  {
   "cell_type": "code",
   "execution_count": 69,
   "id": "careful-directive",
   "metadata": {},
   "outputs": [
    {
     "data": {
      "text/plain": [
       "{ 2 }"
      ]
     },
     "execution_count": 69,
     "metadata": {},
     "output_type": "execute_result"
    }
   ],
   "source": [
    "vec_2"
   ]
  },
  {
   "cell_type": "code",
   "execution_count": 70,
   "id": "after-appointment",
   "metadata": {},
   "outputs": [],
   "source": [
    "int min_len = 1;\n",
    "int max_len = vec_1.size();"
   ]
  },
  {
   "cell_type": "code",
   "execution_count": 71,
   "id": "comparative-episode",
   "metadata": {},
   "outputs": [],
   "source": [
    "int mid_len = (max_len - min_len) / 2;"
   ]
  },
  {
   "cell_type": "code",
   "execution_count": 72,
   "id": "criminal-julian",
   "metadata": {},
   "outputs": [
    {
     "data": {
      "text/plain": [
       "1"
      ]
     },
     "execution_count": 72,
     "metadata": {},
     "output_type": "execute_result"
    }
   ],
   "source": [
    "mid_len"
   ]
  },
  {
   "cell_type": "code",
   "execution_count": 74,
   "id": "differential-disposition",
   "metadata": {},
   "outputs": [],
   "source": [
    "int total_len = size_a + size_b;"
   ]
  },
  {
   "cell_type": "code",
   "execution_count": 76,
   "id": "hearing-storm",
   "metadata": {},
   "outputs": [],
   "source": [
    "int median_index = (total_len + 1) / 2;"
   ]
  },
  {
   "cell_type": "code",
   "execution_count": 77,
   "id": "designing-glance",
   "metadata": {},
   "outputs": [
    {
     "data": {
      "text/plain": [
       "2"
      ]
     },
     "execution_count": 77,
     "metadata": {},
     "output_type": "execute_result"
    }
   ],
   "source": [
    "median_index"
   ]
  },
  {
   "cell_type": "code",
   "execution_count": 79,
   "id": "removed-colorado",
   "metadata": {},
   "outputs": [],
   "source": [
    "bool is_even = ((total_len % 2) == 0)"
   ]
  },
  {
   "cell_type": "code",
   "execution_count": null,
   "id": "lonely-effects",
   "metadata": {},
   "outputs": [],
   "source": [
    "int solution = -1;\n",
    "bool sol_found = false;\n",
    "while(min_len <= max_len)\n",
    "{\n",
    "    int vec_1_contribution = mid_len;\n",
    "    int vec_2_contribution = median_index - vec_1_contribution;\n",
    "    if(vec_2_contribution == 0)\n",
    "    {\n",
    "        if(is_even)\n",
    "        {\n",
    "            int val_vec_1 = vec_1[vec_1_contribution];\n",
    "            int val_vec_2 = vec_2[vec_2_contribution];\n",
    "            if(val_vec_2 > val_vec_1 and val_vec_2 <= vec_1[vec_1_contribution + 1])\n",
    "            {\n",
    "                solution = (val_vec_1 + val_vec_2) / 2;\n",
    "            }\n",
    "//             else if(val_vec_2 > val_vec_1 and val_vec_2 > vec_1[vec_1_contribution + 1])\n",
    "            else\n",
    "            {\n",
    "                solution = (val_vec_1 + vec_1[vec_1_contribution + 1]) / 2;\n",
    "            }\n",
    "        }\n",
    "        else\n",
    "        {\n",
    "            solution = vec_1[vec_1_contribution];\n",
    "        }\n",
    "    }\n",
    "    else\n",
    "    {\n",
    "        int val_vec_1 = vec_1[vec_1_contribution];\n",
    "        int val_vec_2 = vec_2[vec_2_contribution];\n",
    "        \n",
    "    }\n",
    "}"
   ]
  },
  {
   "cell_type": "code",
   "execution_count": 82,
   "id": "applied-inspiration",
   "metadata": {},
   "outputs": [],
   "source": [
    "// To be continued (Above)"
   ]
  },
  {
   "cell_type": "code",
   "execution_count": 85,
   "id": "funded-engineer",
   "metadata": {},
   "outputs": [],
   "source": [
    "// -----------------"
   ]
  },
  {
   "cell_type": "code",
   "execution_count": 86,
   "id": "billion-drink",
   "metadata": {},
   "outputs": [],
   "source": [
    "string s = \"karthik ragunath\";"
   ]
  },
  {
   "cell_type": "code",
   "execution_count": 91,
   "id": "perceived-reply",
   "metadata": {},
   "outputs": [],
   "source": [
    "string sub_str = s.substr(7, 100);"
   ]
  },
  {
   "cell_type": "code",
   "execution_count": 92,
   "id": "going-packing",
   "metadata": {},
   "outputs": [
    {
     "data": {
      "text/plain": [
       "\" ragunath\""
      ]
     },
     "execution_count": 92,
     "metadata": {},
     "output_type": "execute_result"
    }
   ],
   "source": [
    "sub_str"
   ]
  },
  {
   "cell_type": "code",
   "execution_count": 101,
   "id": "quality-simulation",
   "metadata": {},
   "outputs": [],
   "source": [
    "string s = \"mississippi\";\n",
    "string p = \"mis*is*p*.\";\n",
    "int p_len = s.length();\n",
    "int s_len = p.length();"
   ]
  },
  {
   "cell_type": "code",
   "execution_count": 102,
   "id": "responsible-recycling",
   "metadata": {},
   "outputs": [
    {
     "data": {
      "text/plain": [
       "11"
      ]
     },
     "execution_count": 102,
     "metadata": {},
     "output_type": "execute_result"
    }
   ],
   "source": [
    "p_len"
   ]
  },
  {
   "cell_type": "code",
   "execution_count": 103,
   "id": "skilled-response",
   "metadata": {},
   "outputs": [
    {
     "data": {
      "text/plain": [
       "10"
      ]
     },
     "execution_count": 103,
     "metadata": {},
     "output_type": "execute_result"
    }
   ],
   "source": [
    "s_len"
   ]
  },
  {
   "cell_type": "code",
   "execution_count": 107,
   "id": "capable-congo",
   "metadata": {},
   "outputs": [
    {
     "name": "stderr",
     "output_type": "stream",
     "text": [
      "\u001b[1minput_line_149:2:17: \u001b[0m\u001b[0;1;31merror: \u001b[0m\u001b[1mno matching constructor for initialization of 'vector<bool>'\u001b[0m\n",
      " vector< bool > dp(5);\n",
      "\u001b[0;1;32m                ^  ~\n",
      "\u001b[0m\u001b[1m/home/ubuntu/anaconda3/envs/xeus-cling/bin/../lib/gcc/x86_64-conda-linux-gnu/9.3.0/../../../../x86_64-conda-linux-gnu/include/c++/9.3.0/bits/stl_bvector.h:634:7: \u001b[0m\u001b[0;1;30mnote: \u001b[0mcandidate constructor not viable: no known conversion from 'int' to 'const std::vector<bool, std::allocator<bool> >::allocator_type' (aka 'const std::allocator<bool>') for 1st argument\u001b[0m\n",
      "      vector(const allocator_type& __a)\n",
      "\u001b[0;1;32m      ^\n",
      "\u001b[0m\u001b[1m/home/ubuntu/anaconda3/envs/xeus-cling/bin/../lib/gcc/x86_64-conda-linux-gnu/9.3.0/../../../../x86_64-conda-linux-gnu/include/c++/9.3.0/bits/stl_bvector.h:664:7: \u001b[0m\u001b[0;1;30mnote: \u001b[0mcandidate constructor not viable: no known conversion from 'int' to 'std::vector<bool, std::allocator<bool> >' for 1st argument\u001b[0m\n",
      "      vector(vector&&) = default;\n",
      "\u001b[0;1;32m      ^\n",
      "\u001b[0m\u001b[1m/home/ubuntu/anaconda3/envs/xeus-cling/bin/../lib/gcc/x86_64-conda-linux-gnu/9.3.0/../../../../x86_64-conda-linux-gnu/include/c++/9.3.0/bits/stl_bvector.h:687:7: \u001b[0m\u001b[0;1;30mnote: \u001b[0mcandidate constructor not viable: no known conversion from 'int' to 'initializer_list<bool>' for 1st argument\u001b[0m\n",
      "      vector(initializer_list<bool> __l,\n",
      "\u001b[0;1;32m      ^\n",
      "\u001b[0m\u001b[1m/home/ubuntu/anaconda3/envs/xeus-cling/bin/../lib/gcc/x86_64-conda-linux-gnu/9.3.0/../../../../x86_64-conda-linux-gnu/include/c++/9.3.0/bits/stl_bvector.h:699:2: \u001b[0m\u001b[0;1;30mnote: \u001b[0mcandidate constructor template not viable: requires at least 2 arguments, but 1 was provided\u001b[0m\n",
      "        vector(_InputIterator __first, _InputIterator __last,\n",
      "\u001b[0;1;32m        ^\n",
      "\u001b[0m\u001b[1m/home/ubuntu/anaconda3/envs/xeus-cling/bin/../lib/gcc/x86_64-conda-linux-gnu/9.3.0/../../../../x86_64-conda-linux-gnu/include/c++/9.3.0/bits/stl_bvector.h:628:7: \u001b[0m\u001b[0;1;30mnote: \u001b[0mcandidate constructor not viable: requires 0 arguments, but 1 was provided\u001b[0m\n",
      "      vector() = default;\n",
      "\u001b[0;1;32m      ^\n",
      "\u001b[0m\u001b[1m/home/ubuntu/anaconda3/envs/xeus-cling/bin/../lib/gcc/x86_64-conda-linux-gnu/9.3.0/../../../../x86_64-conda-linux-gnu/include/c++/9.3.0/bits/stl_bvector.h:666:7: \u001b[0m\u001b[0;1;30mnote: \u001b[0mcandidate constructor not viable: requires 2 arguments, but 1 was provided\u001b[0m\n",
      "      vector(vector&& __x, const allocator_type& __a)\n",
      "\u001b[0;1;32m      ^\n",
      "\u001b[0m\u001b[1m/home/ubuntu/anaconda3/envs/xeus-cling/bin/../lib/gcc/x86_64-conda-linux-gnu/9.3.0/../../../../x86_64-conda-linux-gnu/include/c++/9.3.0/bits/stl_bvector.h:680:7: \u001b[0m\u001b[0;1;30mnote: \u001b[0mcandidate constructor not viable: requires 2 arguments, but 1 was provided\u001b[0m\n",
      "      vector(const vector& __x, const allocator_type& __a)\n",
      "\u001b[0;1;32m      ^\n",
      "\u001b[0m"
     ]
    },
    {
     "ename": "Interpreter Error",
     "evalue": "",
     "output_type": "error",
     "traceback": [
      "Interpreter Error: "
     ]
    }
   ],
   "source": [
    "vector< bool > dp(5);"
   ]
  },
  {
   "cell_type": "code",
   "execution_count": null,
   "id": "concrete-toddler",
   "metadata": {},
   "outputs": [],
   "source": []
  }
 ],
 "metadata": {
  "kernelspec": {
   "display_name": "C++17",
   "language": "C++17",
   "name": "xcpp17"
  },
  "language_info": {
   "codemirror_mode": "text/x-c++src",
   "file_extension": ".cpp",
   "mimetype": "text/x-c++src",
   "name": "c++",
   "version": "17"
  }
 },
 "nbformat": 4,
 "nbformat_minor": 5
}

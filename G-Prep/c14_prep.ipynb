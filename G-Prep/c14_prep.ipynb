{
 "cells": [
  {
   "cell_type": "code",
   "execution_count": 1,
   "id": "internal-liberia",
   "metadata": {},
   "outputs": [],
   "source": [
    "#include<bits/stdc++.h>\n",
    "using namespace std;\n",
    "vector< int > water_heights{1,8,6,2,5,4,8,3,7};"
   ]
  },
  {
   "cell_type": "code",
   "execution_count": 4,
   "id": "medical-chart",
   "metadata": {},
   "outputs": [
    {
     "name": "stdout",
     "output_type": "stream",
     "text": [
      "1\n"
     ]
    }
   ],
   "source": [
    "cout<< water_heights[0] << \"\\n\";"
   ]
  },
  {
   "cell_type": "code",
   "execution_count": 5,
   "id": "raising-livestock",
   "metadata": {},
   "outputs": [],
   "source": [
    "vector< pair< int, int > > node_pairs{make_pair(1,3), make_pair(1,4), make_pair(2,5), make_pair(3,8), make_pair(3,4)};"
   ]
  },
  {
   "cell_type": "code",
   "execution_count": 6,
   "id": "planned-treasury",
   "metadata": {},
   "outputs": [],
   "source": [
    "for(auto pair: node_pairs)\n",
    "{\n",
    "    break;\n",
    "}"
   ]
  },
  {
   "cell_type": "code",
   "execution_count": 2,
   "id": "actual-watch",
   "metadata": {},
   "outputs": [],
   "source": [
    "int add_val(int x)\n",
    "{\n",
    "    return x*x;\n",
    "}"
   ]
  },
  {
   "cell_type": "code",
   "execution_count": 7,
   "id": "stuck-alloy",
   "metadata": {},
   "outputs": [],
   "source": [
    "vector< int > test_1{1,2,3};\n",
    "vector< int > test_2{4,5,6};\n",
    "vector<int> new_args;\n",
    "new_args.reserve(test_1.size());\n",
    "transform(test_1.begin(), test_1.end(), back_inserter(new_args), add_val);"
   ]
  },
  {
   "cell_type": "code",
   "execution_count": 3,
   "id": "closing-toilet",
   "metadata": {},
   "outputs": [],
   "source": [
    "vector< int > test_1{1,2,3};\n",
    "vector< int > test_2{4,5,6};"
   ]
  },
  {
   "cell_type": "code",
   "execution_count": 8,
   "id": "right-improvement",
   "metadata": {},
   "outputs": [
    {
     "data": {
      "text/plain": [
       "{ 1, 4, 9 }"
      ]
     },
     "execution_count": 8,
     "metadata": {},
     "output_type": "execute_result"
    }
   ],
   "source": [
    "new_args"
   ]
  },
  {
   "cell_type": "code",
   "execution_count": 9,
   "id": "double-column",
   "metadata": {},
   "outputs": [
    {
     "data": {
      "text/plain": [
       "{ 1, 2, 3 }"
      ]
     },
     "execution_count": 9,
     "metadata": {},
     "output_type": "execute_result"
    }
   ],
   "source": [
    "test_1"
   ]
  },
  {
   "cell_type": "code",
   "execution_count": 10,
   "id": "ready-nickel",
   "metadata": {},
   "outputs": [],
   "source": [
    "int addition(int x, int y)\n",
    "{\n",
    "    return x + y;\n",
    "}"
   ]
  },
  {
   "cell_type": "code",
   "execution_count": 11,
   "id": "spiritual-strand",
   "metadata": {},
   "outputs": [
    {
     "data": {
      "text/plain": [
       "{ 4, 5, 6 }"
      ]
     },
     "execution_count": 11,
     "metadata": {},
     "output_type": "execute_result"
    }
   ],
   "source": [
    "test_2"
   ]
  },
  {
   "cell_type": "code",
   "execution_count": 14,
   "id": "designing-rugby",
   "metadata": {},
   "outputs": [],
   "source": [
    "vector< int > adder;\n",
    "adder.reserve(test_1.size());\n"
   ]
  },
  {
   "cell_type": "code",
   "execution_count": 15,
   "id": "expressed-playback",
   "metadata": {},
   "outputs": [],
   "source": [
    "transform(test_1.begin(), test_1.end(), test_2.begin(), back_inserter(adder), addition);"
   ]
  },
  {
   "cell_type": "code",
   "execution_count": 16,
   "id": "disciplinary-entity",
   "metadata": {},
   "outputs": [
    {
     "data": {
      "text/plain": [
       "{ 5, 7, 9 }"
      ]
     },
     "execution_count": 16,
     "metadata": {},
     "output_type": "execute_result"
    }
   ],
   "source": [
    "adder"
   ]
  },
  {
   "cell_type": "code",
   "execution_count": 17,
   "id": "mathematical-tracy",
   "metadata": {},
   "outputs": [],
   "source": [
    "transform(test_1.begin(), test_1.end(), test_2.begin(), back_inserter(adder), addition);"
   ]
  },
  {
   "cell_type": "code",
   "execution_count": 18,
   "id": "banned-virus",
   "metadata": {},
   "outputs": [
    {
     "data": {
      "text/plain": [
       "{ 5, 7, 9, 5, 7, 9 }"
      ]
     },
     "execution_count": 18,
     "metadata": {},
     "output_type": "execute_result"
    }
   ],
   "source": [
    "adder"
   ]
  },
  {
   "cell_type": "code",
   "execution_count": 19,
   "id": "dietary-stomach",
   "metadata": {},
   "outputs": [],
   "source": [
    "vector< int > just_add;"
   ]
  },
  {
   "cell_type": "code",
   "execution_count": 20,
   "id": "timely-gregory",
   "metadata": {},
   "outputs": [],
   "source": [
    "transform(test_1.begin(), test_1.end(), adder.begin(), back_inserter(just_add), addition);"
   ]
  },
  {
   "cell_type": "code",
   "execution_count": 21,
   "id": "violent-partner",
   "metadata": {},
   "outputs": [
    {
     "data": {
      "text/plain": [
       "{ 6, 9, 12 }"
      ]
     },
     "execution_count": 21,
     "metadata": {},
     "output_type": "execute_result"
    }
   ],
   "source": [
    "just_add"
   ]
  },
  {
   "cell_type": "code",
   "execution_count": 22,
   "id": "possible-binary",
   "metadata": {},
   "outputs": [],
   "source": [
    "vector< int > adder_tester;\n",
    "transform(adder.begin(), adder.end(), test_1.begin(), back_inserter(adder_tester), addition);"
   ]
  },
  {
   "cell_type": "code",
   "execution_count": 24,
   "id": "compound-electric",
   "metadata": {},
   "outputs": [
    {
     "data": {
      "text/plain": [
       "{ 6, 9, 12, 1818386809, 108, 9 }"
      ]
     },
     "execution_count": 24,
     "metadata": {},
     "output_type": "execute_result"
    }
   ],
   "source": [
    "adder_tester // random values since test_1[3] contains unknown values"
   ]
  },
  {
   "cell_type": "code",
   "execution_count": 4,
   "id": "attractive-fleece",
   "metadata": {},
   "outputs": [],
   "source": [
    "vector< int > multiplier_tester;\n",
    "transform(test_1.begin(), test_1.end(), back_inserter(multiplier_tester), add_val);"
   ]
  },
  {
   "cell_type": "code",
   "execution_count": 5,
   "id": "healthy-warrior",
   "metadata": {},
   "outputs": [
    {
     "data": {
      "text/plain": [
       "{ 1, 4, 9 }"
      ]
     },
     "execution_count": 5,
     "metadata": {},
     "output_type": "execute_result"
    }
   ],
   "source": [
    "multiplier_tester"
   ]
  },
  {
   "cell_type": "code",
   "execution_count": null,
   "id": "spanish-music",
   "metadata": {},
   "outputs": [],
   "source": []
  }
 ],
 "metadata": {
  "kernelspec": {
   "display_name": "C++14",
   "language": "C++14",
   "name": "xcpp14"
  },
  "language_info": {
   "codemirror_mode": "text/x-c++src",
   "file_extension": ".cpp",
   "mimetype": "text/x-c++src",
   "name": "c++",
   "version": "14"
  }
 },
 "nbformat": 4,
 "nbformat_minor": 5
}

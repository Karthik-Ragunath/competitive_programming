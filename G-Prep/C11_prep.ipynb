{
 "cells": [
  {
   "cell_type": "code",
   "execution_count": 1,
   "id": "female-password",
   "metadata": {},
   "outputs": [],
   "source": [
    "#include<bits/stdc++.h>\n",
    "using namespace std;"
   ]
  },
  {
   "cell_type": "code",
   "execution_count": 2,
   "id": "equivalent-trust",
   "metadata": {},
   "outputs": [],
   "source": [
    "vector< int > water_heights{1,8,6,2,5,4,8,3,7};"
   ]
  },
  {
   "cell_type": "code",
   "execution_count": 4,
   "id": "lyric-kingdom",
   "metadata": {},
   "outputs": [
    {
     "name": "stdout",
     "output_type": "stream",
     "text": [
      "1\n"
     ]
    }
   ],
   "source": [
    "cout<< water_heights[0] << \"\\n\";"
   ]
  },
  {
   "cell_type": "code",
   "execution_count": 5,
   "id": "simplified-israel",
   "metadata": {},
   "outputs": [],
   "source": [
    "class Graph_Node\n",
    "{\n",
    "    public:\n",
    "        int val;\n",
    "        vector< Graph_Node* > children;\n",
    "        Graph_Node():val(0){}\n",
    "        Graph_Node(int x): val(x){}\n",
    "        \n",
    "};"
   ]
  },
  {
   "cell_type": "code",
   "execution_count": 6,
   "id": "prepared-knowing",
   "metadata": {},
   "outputs": [],
   "source": [
    "vector< pair< int, int > > node_pairs{make_pair(1,3), make_pair(1,4), make_pair(2,5), make_pair(3,8), make_pair(3,4)};"
   ]
  },
  {
   "cell_type": "code",
   "execution_count": 7,
   "id": "czech-hanging",
   "metadata": {},
   "outputs": [],
   "source": [
    "vector< Graph_Node* > graph_nodes;"
   ]
  },
  {
   "cell_type": "code",
   "execution_count": 8,
   "id": "controlling-occurrence",
   "metadata": {},
   "outputs": [],
   "source": [
    "unordered_map< int, Graph_Node* > graph_node_map;"
   ]
  },
  {
   "cell_type": "code",
   "execution_count": 9,
   "id": "desperate-enclosure",
   "metadata": {},
   "outputs": [],
   "source": [
    "unordered_set< int > visited_set;"
   ]
  },
  {
   "cell_type": "code",
   "execution_count": 10,
   "id": "coral-mouse",
   "metadata": {},
   "outputs": [
    {
     "name": "stdout",
     "output_type": "stream",
     "text": [
      "1:1 2:3\n",
      "1:1 2:4\n",
      "1:2 2:5\n",
      "1:3 2:8\n",
      "1:3 2:4\n"
     ]
    }
   ],
   "source": [
    "for(auto pair: node_pairs)\n",
    "{\n",
    "    auto find_first_iter = visited_set.find(pair.first);\n",
    "    if(find_first_iter == visited_set.end())\n",
    "    {\n",
    "        Graph_Node* local_node = new Graph_Node(pair.first);\n",
    "        graph_node_map[pair.first] = local_node;\n",
    "        visited_set.insert(pair.first);\n",
    "    }\n",
    "    auto find_second_iter = visited_set.find(pair.second);\n",
    "    if(find_second_iter == visited_set.end())\n",
    "    {\n",
    "        Graph_Node* local_node = new Graph_Node(pair.second);\n",
    "        graph_node_map[pair.second] = local_node;\n",
    "        visited_set.insert(pair.second);\n",
    "    }\n",
    "    cout << \"1:\" << pair.first << \" 2:\" << pair.second << \"\\n\";\n",
    "    graph_node_map[pair.first] -> children.push_back(graph_node_map[pair.second]);\n",
    "}"
   ]
  },
  {
   "cell_type": "code",
   "execution_count": 1,
   "id": "assisted-timer",
   "metadata": {},
   "outputs": [],
   "source": [
    "int add_val(int x)\n",
    "{\n",
    "    return x;\n",
    "}"
   ]
  },
  {
   "cell_type": "code",
   "execution_count": 6,
   "id": "middle-marriage",
   "metadata": {},
   "outputs": [],
   "source": [
    "int addition(int x, int y)\n",
    "{\n",
    "    return x + y;\n",
    "}"
   ]
  },
  {
   "cell_type": "code",
   "execution_count": 3,
   "id": "agricultural-petersburg",
   "metadata": {},
   "outputs": [],
   "source": [
    "vector< int > test_1{1,2,3};\n",
    "vector< int > test_2{4,5,6};\n",
    "vector<int> new_args;\n",
    "new_args.reserve(test_1.size());\n",
    "transform(test_1.begin(), test_1.end(), back_inserter(new_args), add_val);"
   ]
  },
  {
   "cell_type": "code",
   "execution_count": 4,
   "id": "affecting-compression",
   "metadata": {},
   "outputs": [
    {
     "data": {
      "text/plain": [
       "{ 1, 2, 3 }"
      ]
     },
     "execution_count": 4,
     "metadata": {},
     "output_type": "execute_result"
    }
   ],
   "source": [
    "new_args"
   ]
  },
  {
   "cell_type": "code",
   "execution_count": 7,
   "id": "systematic-designer",
   "metadata": {},
   "outputs": [],
   "source": [
    "transform(test_1.begin(), test_1.end(), test_2.begin(), test_2.end(), addition);"
   ]
  },
  {
   "cell_type": "code",
   "execution_count": 8,
   "id": "happy-evanescence",
   "metadata": {},
   "outputs": [
    {
     "data": {
      "text/plain": [
       "{ 4, 5, 6 }"
      ]
     },
     "execution_count": 8,
     "metadata": {},
     "output_type": "execute_result"
    }
   ],
   "source": [
    "test_2"
   ]
  },
  {
   "cell_type": "code",
   "execution_count": 2,
   "id": "dental-vertex",
   "metadata": {},
   "outputs": [],
   "source": [
    "int num_nodes = 3;"
   ]
  },
  {
   "cell_type": "code",
   "execution_count": 3,
   "id": "ready-startup",
   "metadata": {},
   "outputs": [],
   "source": [
    "class Node\n",
    "{\n",
    "    public:\n",
    "        int val;\n",
    "        Node *left;\n",
    "        Node *right;\n",
    "        Node(int x): val(x), left(NULL), right(NULL){}\n",
    "};"
   ]
  },
  {
   "cell_type": "code",
   "execution_count": 4,
   "id": "narrow-alloy",
   "metadata": {},
   "outputs": [
    {
     "name": "stderr",
     "output_type": "stream",
     "text": [
      "\u001b[1minput_line_11:3:1: \u001b[0m\u001b[0;1;31merror: \u001b[0m\u001b[1mfunction definition is not allowed here\u001b[0m\n",
      "{\n",
      "\u001b[0;1;32m^\n",
      "\u001b[0m"
     ]
    },
    {
     "ename": "Interpreter Error",
     "evalue": "",
     "output_type": "error",
     "traceback": [
      "Interpreter Error: "
     ]
    }
   ],
   "source": [
    "vector< Node* > recurse_trees(unordered_set< int > &temp_checker, int start, int end)\n",
    "{\n",
    "    vector< Node* > solution;\n",
    "    for(int i = start; i <= end; i++)\n",
    "    {\n",
    "        auto find_iter = temp_checker.find(i);\n",
    "        if(find_iter == temp_checker.end())\n",
    "        {\n",
    "            temp_checker.insert(i);\n",
    "            vector< Node* > right_nodes = recurse_trees(temp_checker, i + 1, end);\n",
    "            right_nodes = not right_nodes.empty() ? right_nodes : vector< Node* >{NULL};\n",
    "            vector< Node* > left_nodes = recurse_trees(temp_checker, start, i - 1);\n",
    "            left_nodes = not left_nodes.empty() ? left_nodes : vector< Node* >{NULL};\n",
    "            for(auto right_node: right_nodes)\n",
    "            {\n",
    "                for(auto left_node: left_nodes)\n",
    "                {\n",
    "                    Node* node = new Node(i);\n",
    "                    node -> left = left_node;\n",
    "                    node -> right = right_node;\n",
    "                    solution.push_back(node);\n",
    "                }\n",
    "            }\n",
    "            temp_checker.erase(i);\n",
    "        }\n",
    "    }\n",
    "    return solution;\n",
    "}"
   ]
  },
  {
   "cell_type": "code",
   "execution_count": null,
   "id": "documentary-closing",
   "metadata": {},
   "outputs": [],
   "source": []
  }
 ],
 "metadata": {
  "kernelspec": {
   "display_name": "C++11",
   "language": "C++11",
   "name": "xcpp11"
  },
  "language_info": {
   "codemirror_mode": "text/x-c++src",
   "file_extension": ".cpp",
   "mimetype": "text/x-c++src",
   "name": "c++",
   "version": "11"
  }
 },
 "nbformat": 4,
 "nbformat_minor": 5
}

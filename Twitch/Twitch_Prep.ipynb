{
 "cells": [
  {
   "cell_type": "code",
   "execution_count": 137,
   "id": "7137c643-5c0e-4d6d-9e3e-4191eeafb185",
   "metadata": {},
   "outputs": [
    {
     "name": "stdin",
     "output_type": "stream",
     "text": [
      "  StreamerOnline, A, 100000, Fortnite, StreamerOnline, B, 2000, GTA, ViewsInCategory, GTA, TopStreamerInCategory, GTA, UpdateViews, A, 1000000, GTA, UpdateViews, B, 2000000000, GTA, TopStreamerInCategory, GTA, UpdateCategory, B, GTA, Fortnite, TopStreamerInCategory, Fortnite, StreamerOffline, B, Fortnite, TopStreamerInCategory, Fortnite, TopStreamerInCategory, GTA\n"
     ]
    }
   ],
   "source": [
    "input_query = input()"
   ]
  },
  {
   "cell_type": "code",
   "execution_count": 138,
   "id": "4632785e-7065-4506-b700-281042b5eee5",
   "metadata": {},
   "outputs": [
    {
     "data": {
      "text/plain": [
       "' StreamerOnline, A, 100000, Fortnite, StreamerOnline, B, 2000, GTA, ViewsInCategory, GTA, TopStreamerInCategory, GTA, UpdateViews, A, 1000000, GTA, UpdateViews, B, 2000000000, GTA, TopStreamerInCategory, GTA, UpdateCategory, B, GTA, Fortnite, TopStreamerInCategory, Fortnite, StreamerOffline, B, Fortnite, TopStreamerInCategory, Fortnite, TopStreamerInCategory, GTA'"
      ]
     },
     "execution_count": 138,
     "metadata": {},
     "output_type": "execute_result"
    }
   ],
   "source": [
    "input_query"
   ]
  },
  {
   "cell_type": "code",
   "execution_count": 139,
   "id": "16f7949c-9f0c-4b31-b0d7-3fd6b30b789e",
   "metadata": {},
   "outputs": [],
   "source": [
    "split_query = input_query.split(',')\n",
    "split_query = [query.strip() for query in split_query]"
   ]
  },
  {
   "cell_type": "code",
   "execution_count": 140,
   "id": "e6d2a3b0-6d5f-4035-80ac-a9bce3fa96bb",
   "metadata": {},
   "outputs": [],
   "source": [
    "from collections import defaultdict\n",
    "stream_dict = defaultdict(lambda: defaultdict(int))\n",
    "category_dict = defaultdict(lambda: defaultdict(int))"
   ]
  },
  {
   "cell_type": "code",
   "execution_count": 141,
   "id": "b2bcd1cc-4ce0-4254-a271-0701d402606c",
   "metadata": {},
   "outputs": [],
   "source": [
    "solution = []"
   ]
  },
  {
   "cell_type": "code",
   "execution_count": 147,
   "id": "9020973b-10d2-4c95-862d-ba6a3386c93f",
   "metadata": {},
   "outputs": [
    {
     "name": "stdout",
     "output_type": "stream",
     "text": [
      "GTA\n",
      "GTA\n",
      "Fortnite\n",
      "Fortnite\n",
      "Fortnite\n"
     ]
    }
   ],
   "source": [
    "solution = []\n",
    "i = 0\n",
    "while i < len(split_query):\n",
    "    if split_query[i] == \"StreamerOnline\":\n",
    "        streamer_name = split_query[i + 1]\n",
    "        stream_count = int(split_query[i + 2])\n",
    "        game_name = split_query[i + 3]\n",
    "        stream_dict[streamer_name][game_name] = stream_count\n",
    "        category_dict[game_name][streamer_name] = stream_count\n",
    "        i = i + 4\n",
    "        continue\n",
    "    elif split_query[i] == \"ViewsInCategory\":\n",
    "        category_name = split_query[i + 1]\n",
    "        local_sol = 0\n",
    "        category_to_consider = category_dict[category_name]\n",
    "        for key, val in category_to_consider.items():\n",
    "            local_sol += val\n",
    "        if local_sol:\n",
    "            solution.append(local_sol)\n",
    "        i = i + 2\n",
    "        continue\n",
    "    elif split_query[i] == \"TopStreamerInCategory\":\n",
    "        local_sol = None\n",
    "        category_name = split_query[i + 1]\n",
    "        local_max = 0\n",
    "        localmax_streamer = None\n",
    "        category_to_consider = category_dict[category_name]\n",
    "        for key, val in category_to_consider.items():\n",
    "            print(category_name)\n",
    "            if val > local_max:\n",
    "                local_sol = key\n",
    "                local_max = val\n",
    "        if local_sol:\n",
    "            solution.append(local_sol)\n",
    "            solution.append(local_max)\n",
    "        i += 2\n",
    "        continue\n",
    "    elif split_query[i] == \"UpdateViews\":\n",
    "        streamer_name = split_query[i + 1]\n",
    "        view_count = int(split_query[i + 2])\n",
    "        category_name = split_query[i + 3]\n",
    "        if streamer_name in stream_dict:\n",
    "            if category_name in stream_dict[streamer_name]:\n",
    "                stream_dict[streamer_name][category_name] = view_count\n",
    "                category_dict[category_name][streamer_name] = view_count\n",
    "        i = i + 4\n",
    "        continue\n",
    "    elif split_query[i] == \"UpdateCategory\":\n",
    "        streamer_name = split_query[i + 1]\n",
    "        old_category = split_query[i + 2]\n",
    "        new_category = split_query[i + 3]\n",
    "        if streamer_name in stream_dict:\n",
    "            if old_category in stream_dict[streamer_name]:\n",
    "                if new_category not in stream_dict[streamer_name]:\n",
    "                    stream_dict[streamer_name][new_category] = stream_dict[streamer_name][old_category]\n",
    "                    stream_dict[streamer_name].pop(old_category, None)\n",
    "                    category_dict[new_category][streamer_name] = category_dict[old_category][streamer_name]\n",
    "                    category_dict[old_category].pop(streamer_name, None)\n",
    "        i = i + 4\n",
    "        continue\n",
    "    elif split_query[i] == \"StreamerOffline\":\n",
    "        streamer_name = split_query[i + 1]\n",
    "        category_name = split_query[i + 2]\n",
    "        if streamer_name in stream_dict:\n",
    "            if category_name in stream_dict[streamer_name]:\n",
    "                stream_dict[streamer_name].pop(category_name, None)\n",
    "                category_dict[category_name].pop(streamer_name, None)\n",
    "        i = i + 3\n",
    "        continue\n",
    "    else:\n",
    "        i = i + 1"
   ]
  },
  {
   "cell_type": "code",
   "execution_count": 148,
   "id": "93dfbeb1-647a-4d72-b8be-53888ed04b6e",
   "metadata": {},
   "outputs": [
    {
     "data": {
      "text/plain": [
       "[2000, 'B', 2000, 'B', 2000000000, 'B', 2000000000, 'A', 100000]"
      ]
     },
     "execution_count": 148,
     "metadata": {},
     "output_type": "execute_result"
    }
   ],
   "source": [
    "solution"
   ]
  },
  {
   "cell_type": "code",
   "execution_count": 131,
   "id": "69482dea-122a-481e-a3f5-7d4919c10573",
   "metadata": {},
   "outputs": [
    {
     "data": {
      "text/plain": [
       "defaultdict(<function __main__.<lambda>()>,\n",
       "            {'A': defaultdict(int, {'Fortnite': 100000}),\n",
       "             'B': defaultdict(int,\n",
       "                         {'Fortnite': 2000000000, 'GTA': 2000000000})})"
      ]
     },
     "execution_count": 131,
     "metadata": {},
     "output_type": "execute_result"
    }
   ],
   "source": [
    "stream_dict"
   ]
  },
  {
   "cell_type": "code",
   "execution_count": 132,
   "id": "4c7c49ef-44c9-44b3-b474-b1a412795260",
   "metadata": {},
   "outputs": [],
   "source": [
    "a = defaultdict(lambda: defaultdict(int))\n",
    "a['app']['ban'] = 12"
   ]
  },
  {
   "cell_type": "code",
   "execution_count": 133,
   "id": "b6ef6296-6537-415c-aaee-12654393bf9e",
   "metadata": {},
   "outputs": [
    {
     "name": "stdout",
     "output_type": "stream",
     "text": [
      "12\n"
     ]
    }
   ],
   "source": [
    "a['app']['cat'] = a['app']['ban']\n",
    "print(a['app']['cat'])"
   ]
  },
  {
   "cell_type": "code",
   "execution_count": 134,
   "id": "accf9360-8ea2-482e-a17b-4500358a2c8b",
   "metadata": {},
   "outputs": [
    {
     "name": "stdout",
     "output_type": "stream",
     "text": [
      "defaultdict(<function <lambda> at 0x7fe9018ed790>, {'app': defaultdict(<class 'int'>, {'ban': 12, 'cat': 12})})\n"
     ]
    }
   ],
   "source": [
    "print(a)"
   ]
  },
  {
   "cell_type": "code",
   "execution_count": 135,
   "id": "4830756c-bd4d-4242-b5ed-08943d897dc6",
   "metadata": {},
   "outputs": [
    {
     "data": {
      "text/plain": [
       "12"
      ]
     },
     "execution_count": 135,
     "metadata": {},
     "output_type": "execute_result"
    }
   ],
   "source": [
    "a['app'].pop('ban', None)"
   ]
  },
  {
   "cell_type": "code",
   "execution_count": 136,
   "id": "3eed19c6-949e-44fc-ac80-54ebfe032bfa",
   "metadata": {},
   "outputs": [
    {
     "data": {
      "text/plain": [
       "defaultdict(<function __main__.<lambda>()>,\n",
       "            {'app': defaultdict(int, {'cat': 12})})"
      ]
     },
     "execution_count": 136,
     "metadata": {},
     "output_type": "execute_result"
    }
   ],
   "source": [
    "a"
   ]
  },
  {
   "cell_type": "code",
   "execution_count": 57,
   "id": "c7db0395-957f-4a0f-b61f-e6fb5f6e12f5",
   "metadata": {},
   "outputs": [
    {
     "data": {
      "text/plain": [
       "defaultdict(int, {'cat': 12})"
      ]
     },
     "execution_count": 57,
     "metadata": {},
     "output_type": "execute_result"
    }
   ],
   "source": [
    "a.pop('app', None)"
   ]
  },
  {
   "cell_type": "code",
   "execution_count": 58,
   "id": "6a96e7cd-522a-467c-b559-334d3efe5098",
   "metadata": {},
   "outputs": [
    {
     "data": {
      "text/plain": [
       "defaultdict(<function __main__.<lambda>()>, {})"
      ]
     },
     "execution_count": 58,
     "metadata": {},
     "output_type": "execute_result"
    }
   ],
   "source": [
    "a"
   ]
  },
  {
   "cell_type": "code",
   "execution_count": null,
   "id": "f63a2dca-446d-490e-804c-90c81cbc8cd4",
   "metadata": {},
   "outputs": [],
   "source": []
  }
 ],
 "metadata": {
  "kernelspec": {
   "display_name": "Python 3 (ipykernel)",
   "language": "python",
   "name": "python3"
  },
  "language_info": {
   "codemirror_mode": {
    "name": "ipython",
    "version": 3
   },
   "file_extension": ".py",
   "mimetype": "text/x-python",
   "name": "python",
   "nbconvert_exporter": "python",
   "pygments_lexer": "ipython3",
   "version": "3.9.7"
  }
 },
 "nbformat": 4,
 "nbformat_minor": 5
}

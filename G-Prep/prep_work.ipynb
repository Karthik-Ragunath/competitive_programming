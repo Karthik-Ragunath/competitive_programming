{
 "cells": [
  {
   "cell_type": "code",
   "execution_count": 1,
   "id": "controlling-conversion",
   "metadata": {},
   "outputs": [],
   "source": [
    "#include<bits/stdc++.h>\n",
    "using namespace std;\n",
    "#define ll long long int"
   ]
  },
  {
   "cell_type": "code",
   "execution_count": 131,
   "id": "organic-lemon",
   "metadata": {},
   "outputs": [],
   "source": [
    "// string p = \"mississippi\";\n",
    "// string s = \"mis*is*p*.\";\n",
    "\n",
    "string p = \"aab\";\n",
    "string s = \"c*a*b\";\n",
    "int p_len = p.length();\n",
    "int s_len = s.length();"
   ]
  },
  {
   "cell_type": "code",
   "execution_count": 132,
   "id": "invisible-singapore",
   "metadata": {},
   "outputs": [],
   "source": [
    "vector< vector< bool > > dp(p_len + 1, vector< bool >(s_len + 1, false));"
   ]
  },
  {
   "cell_type": "code",
   "execution_count": 133,
   "id": "choice-shell",
   "metadata": {},
   "outputs": [],
   "source": [
    "for(int i = 0; i <= s_len; i++)\n",
    "{\n",
    "    if(i == 0)\n",
    "    {\n",
    "        dp[0][i] = true;\n",
    "    }\n",
    "    else\n",
    "    {\n",
    "        if(s[i - 1] == '*')\n",
    "        {\n",
    "            if(i > 1)\n",
    "            {\n",
    "                dp[0][i] = dp[0][i - 2];\n",
    "            }\n",
    "            else\n",
    "            {\n",
    "                dp[0][i] = false;\n",
    "            }\n",
    "        }\n",
    "        else\n",
    "        {\n",
    "            dp[0][i] = false;\n",
    "        }\n",
    "    }\n",
    "}"
   ]
  },
  {
   "cell_type": "code",
   "execution_count": 134,
   "id": "alleged-worth",
   "metadata": {},
   "outputs": [],
   "source": [
    "for(int i = 1; i <= p_len; i++)\n",
    "{\n",
    "    for(int j = 0; j <= s_len; j++)\n",
    "    {\n",
    "        if(j == 0)\n",
    "        {\n",
    "            dp[i][j] = false;\n",
    "        }\n",
    "        else\n",
    "        {\n",
    "            if(p[i - 1] == s[j - 1] || s[j - 1] == '.')\n",
    "            {\n",
    "                dp[i][j] = dp[i - 1][j - 1];\n",
    "            }\n",
    "            else\n",
    "            {\n",
    "                if(s[j - 1] == '*')\n",
    "                {\n",
    "                    if(j > 1)\n",
    "                    {\n",
    "                        dp[i][j] = dp[i][j - 2];\n",
    "                    }\n",
    "                    if(j > 1 and (s[j - 2] == p[i - 1] || s[j - 2] == '.') && dp[i - 1][j])\n",
    "                    {\n",
    "                        dp[i][j] = (dp[i][j] || dp[i - 1][j]);\n",
    "                    }\n",
    "                }\n",
    "                else\n",
    "                {\n",
    "                    dp[i][j] = false;\n",
    "                }\n",
    "            }\n",
    "        }\n",
    "    }\n",
    "}"
   ]
  },
  {
   "cell_type": "code",
   "execution_count": 135,
   "id": "removed-rehabilitation",
   "metadata": {},
   "outputs": [],
   "source": [
    "// for(int i = 1; i <= p_len; i++)\n",
    "// {\n",
    "// \tfor(int j = 0; j <= s_len; j++)\n",
    "// \t{\n",
    "// \t\tif(j == 0)\n",
    "// \t\t{\n",
    "// \t\t\tdp[i][j] = false;\n",
    "// \t\t}\n",
    "// \t\telse\n",
    "// \t\t{\n",
    "// \t\t\tif(s[j - 1] == p[i - 1] || s[j - 1] == '.')\n",
    "// \t\t\t{\n",
    "// \t\t\t\tdp[i][j] = dp[i - 1][j - 1];\n",
    "// \t\t\t}\n",
    "// \t\t\telse if(s[j - 1] == '*')\n",
    "// \t\t\t{\n",
    "// \t\t\t\tif(j > 1)\n",
    "// \t\t\t\t{\n",
    "// \t\t\t\t\tdp[i][j] = dp[i][j - 2]; // Removal of previous word and check match of string with prefix at that point\n",
    "// \t\t\t\t}\n",
    "// \t\t\t\tif(j > 1 && (s[j - 2] == p[i - 1] || s[j - 2] == '.') && dp[i - 1][j])\n",
    "// \t\t\t\t{\n",
    "// \t\t\t\t\t// dp[i - 1][j] considers x(aaaaaaa) to part of x(a*) \n",
    "// \t\t\t\t\tdp[i][j] = dp[i][j] || dp[i - 1][j];\n",
    "// \t\t\t\t}\n",
    "// \t\t\t}\n",
    "// \t\t\telse\n",
    "// \t\t\t{\n",
    "// \t\t\t\tdp[i][j] = false; \n",
    "// \t\t\t}\n",
    "// \t\t}\t\n",
    "// \t}\n",
    "// }"
   ]
  },
  {
   "cell_type": "code",
   "execution_count": 136,
   "id": "underlying-exhibition",
   "metadata": {},
   "outputs": [],
   "source": [
    "bool sol = dp[p_len][s_len];"
   ]
  },
  {
   "cell_type": "code",
   "execution_count": 137,
   "id": "spectacular-edmonton",
   "metadata": {},
   "outputs": [
    {
     "data": {
      "text/plain": [
       "true"
      ]
     },
     "execution_count": 137,
     "metadata": {},
     "output_type": "execute_result"
    }
   ],
   "source": [
    "sol"
   ]
  },
  {
   "cell_type": "code",
   "execution_count": 138,
   "id": "future-headline",
   "metadata": {},
   "outputs": [
    {
     "data": {
      "text/plain": [
       "{ { true, false, true, false, true, false }, { false, false, false, true, true, false }, { false, false, false, false, true, false }, { false, false, false, false, false, true } }"
      ]
     },
     "execution_count": 138,
     "metadata": {},
     "output_type": "execute_result"
    }
   ],
   "source": [
    "dp"
   ]
  },
  {
   "cell_type": "code",
   "execution_count": 139,
   "id": "exterior-opening",
   "metadata": {},
   "outputs": [],
   "source": [
    "// ----------------------"
   ]
  },
  {
   "cell_type": "code",
   "execution_count": 6,
   "id": "thorough-westminster",
   "metadata": {},
   "outputs": [],
   "source": [
    "// #include <vector>"
   ]
  },
  {
   "cell_type": "code",
   "execution_count": 5,
   "id": "alert-venezuela",
   "metadata": {},
   "outputs": [],
   "source": [
    "// vector<int> test(5);\n",
    "// test.push_back(10);\n",
    "// test[0];"
   ]
  },
  {
   "cell_type": "code",
   "execution_count": 17,
   "id": "arctic-malta",
   "metadata": {},
   "outputs": [],
   "source": [
    "// vector< int > water_heights{1,8,6,2,5,4,8,3,7};\n",
    "// vector< int > water_heights{1,1};\n",
    "// vector< int > water_heights{4,3,2,1,4};\n",
    "vector< int > water_heights{1,2,1};"
   ]
  },
  {
   "cell_type": "code",
   "execution_count": 18,
   "id": "linear-special",
   "metadata": {},
   "outputs": [],
   "source": [
    "water_heights[0];"
   ]
  },
  {
   "cell_type": "code",
   "execution_count": 19,
   "id": "stunning-funeral",
   "metadata": {},
   "outputs": [
    {
     "name": "stdout",
     "output_type": "stream",
     "text": [
      "2\n"
     ]
    }
   ],
   "source": [
    "int starting_pos = 0;\n",
    "int ending_pos = water_heights.size() - 1;\n",
    "int solution = 0;\n",
    "for(int i = starting_pos, j = ending_pos; i < j;)\n",
    "{\n",
    "    if(water_heights[i] <= water_heights[j])\n",
    "    {\n",
    "        int local_val = (j - i) * water_heights[i];\n",
    "        solution = max(solution, local_val);\n",
    "//         cout << \"solution:\" << solution << \"\\n\";\n",
    "        i += 1;\n",
    "    }\n",
    "    else\n",
    "    {\n",
    "        int local_val = (j - i) * water_heights[j];\n",
    "        solution = max(solution, local_val);\n",
    "//         cout << \"solution:\" << solution << \"\\n\";\n",
    "        j -= 1;\n",
    "    }\n",
    "}\n",
    "cout << solution << \"\\n\";"
   ]
  },
  {
   "cell_type": "code",
   "execution_count": 20,
   "id": "breeding-mumbai",
   "metadata": {},
   "outputs": [],
   "source": [
    "// --------------------"
   ]
  },
  {
   "cell_type": "code",
   "execution_count": 29,
   "id": "wound-delicious",
   "metadata": {},
   "outputs": [],
   "source": [
    "class Node\n",
    "{\n",
    "    public:\n",
    "        int val;\n",
    "        Node* next;\n",
    "        Node(): val(0), next(nullptr){}\n",
    "        Node(int x): val(x), next(nullptr){}\n",
    "        Node(int x, Node* next): val(x), next(next){}\n",
    "};"
   ]
  },
  {
   "cell_type": "code",
   "execution_count": 30,
   "id": "closing-lexington",
   "metadata": {},
   "outputs": [],
   "source": [
    "Node* node = new Node();\n",
    "Node* head = node;"
   ]
  },
  {
   "cell_type": "code",
   "execution_count": 31,
   "id": "lasting-poetry",
   "metadata": {},
   "outputs": [
    {
     "name": "stdout",
     "output_type": "stream",
     "text": [
      "0\n"
     ]
    }
   ],
   "source": [
    "cout << head -> val << \"\\n\";"
   ]
  },
  {
   "cell_type": "code",
   "execution_count": 32,
   "id": "mineral-wrestling",
   "metadata": {},
   "outputs": [],
   "source": [
    "vector< int > inputs{1,2,3,4,5,6};"
   ]
  },
  {
   "cell_type": "code",
   "execution_count": 33,
   "id": "smart-partner",
   "metadata": {},
   "outputs": [],
   "source": [
    "for(auto iter = inputs.begin(); iter != inputs.end(); iter++)\n",
    "{\n",
    "    node -> val = *iter;\n",
    "    if(iter + 1 != inputs.end())\n",
    "    {\n",
    "        Node* new_node = new Node();\n",
    "        node -> next = new_node;\n",
    "        node = node -> next;\n",
    "    }\n",
    "}"
   ]
  },
  {
   "cell_type": "code",
   "execution_count": 34,
   "id": "expressed-alarm",
   "metadata": {},
   "outputs": [
    {
     "name": "stdout",
     "output_type": "stream",
     "text": [
      "1\n"
     ]
    }
   ],
   "source": [
    "cout << head -> val << \"\\n\";"
   ]
  },
  {
   "cell_type": "code",
   "execution_count": 35,
   "id": "minus-capital",
   "metadata": {},
   "outputs": [
    {
     "name": "stdout",
     "output_type": "stream",
     "text": [
      "6\n"
     ]
    }
   ],
   "source": [
    "cout << node -> val << \"\\n\";"
   ]
  },
  {
   "cell_type": "code",
   "execution_count": 36,
   "id": "persistent-wallet",
   "metadata": {},
   "outputs": [],
   "source": [
    "int index_from_end = 2;"
   ]
  },
  {
   "cell_type": "code",
   "execution_count": 37,
   "id": "hungry-jimmy",
   "metadata": {},
   "outputs": [],
   "source": [
    "Node* recurse_nodes(Node* node, int index_from_end, int &current_index_from_end)\n",
    "{\n",
    "    if(node -> next)\n",
    "    {\n",
    "        recurse_nodes(node -> next, index_from_end, current_index_from_end);\n",
    "    }\n",
    "    if(current_index_from_end == index_from_end)\n",
    "    {\n",
    "        cout << node -> next -> val << \"\\n\";\n",
    "        node -> next = (node -> next) -> next;\n",
    "    }\n",
    "    current_index_from_end += 1;\n",
    "    return node;\n",
    "}"
   ]
  },
  {
   "cell_type": "code",
   "execution_count": 38,
   "id": "surgical-saver",
   "metadata": {},
   "outputs": [],
   "source": [
    "Node* remove_nth_node(Node* head, int index_from_end)\n",
    "{\n",
    "    int current_index_from_end = 0;\n",
    "    Node *node_to_return = recurse_nodes(head, index_from_end, current_index_from_end);\n",
    "    return node_to_return;\n",
    "}"
   ]
  },
  {
   "cell_type": "code",
   "execution_count": 39,
   "id": "moved-darwin",
   "metadata": {},
   "outputs": [
    {
     "name": "stdout",
     "output_type": "stream",
     "text": [
      "5\n"
     ]
    }
   ],
   "source": [
    "Node *node_after_deletion = remove_nth_node(head, index_from_end);"
   ]
  },
  {
   "cell_type": "code",
   "execution_count": 40,
   "id": "solid-aurora",
   "metadata": {},
   "outputs": [
    {
     "name": "stdout",
     "output_type": "stream",
     "text": [
      "1\n"
     ]
    }
   ],
   "source": [
    "cout << node_after_deletion -> val << \"\\n\";"
   ]
  },
  {
   "cell_type": "code",
   "execution_count": 41,
   "id": "marine-clearance",
   "metadata": {},
   "outputs": [
    {
     "name": "stdout",
     "output_type": "stream",
     "text": [
      "1\n",
      "2\n",
      "3\n",
      "4\n",
      "6\n"
     ]
    }
   ],
   "source": [
    "Node* nod = node_after_deletion;\n",
    "while(true)\n",
    "{\n",
    "    cout << nod -> val << \"\\n\";\n",
    "    if(not nod-> next)\n",
    "    {\n",
    "        break;\n",
    "    }\n",
    "    nod = nod -> next;\n",
    "}"
   ]
  },
  {
   "cell_type": "code",
   "execution_count": 2,
   "id": "purple-highlight",
   "metadata": {},
   "outputs": [],
   "source": [
    "// ------------------------------------"
   ]
  },
  {
   "cell_type": "code",
   "execution_count": 57,
   "id": "hindu-style",
   "metadata": {},
   "outputs": [],
   "source": [
    "class Graph_Node\n",
    "{\n",
    "    public:\n",
    "        int val;\n",
    "        vector< Graph_Node* > children;\n",
    "        Graph_Node():val(0){}\n",
    "        Graph_Node(int x): val(x){}\n",
    "        \n",
    "};"
   ]
  },
  {
   "cell_type": "code",
   "execution_count": 58,
   "id": "vocal-african",
   "metadata": {},
   "outputs": [],
   "source": [
    "vector< pair< int, int > > node_pairs{make_pair(1,3), make_pair(1,4), make_pair(2,5), make_pair(3,8), make_pair(3,4), make_pair(3,2), make_pair(5,4)};"
   ]
  },
  {
   "cell_type": "code",
   "execution_count": 59,
   "id": "revolutionary-alaska",
   "metadata": {},
   "outputs": [],
   "source": [
    "vector< Graph_Node* > graph_nodes;"
   ]
  },
  {
   "cell_type": "code",
   "execution_count": 60,
   "id": "random-marathon",
   "metadata": {},
   "outputs": [],
   "source": [
    "unordered_map< int, Graph_Node* > graph_node_map;"
   ]
  },
  {
   "cell_type": "code",
   "execution_count": 61,
   "id": "straight-pathology",
   "metadata": {},
   "outputs": [],
   "source": [
    "unordered_set< int > visited_set;"
   ]
  },
  {
   "cell_type": "code",
   "execution_count": 62,
   "id": "significant-omega",
   "metadata": {},
   "outputs": [
    {
     "name": "stdout",
     "output_type": "stream",
     "text": [
      "1:1 2:3\n",
      "1:1 2:4\n",
      "1:2 2:5\n",
      "1:3 2:8\n",
      "1:3 2:4\n",
      "1:3 2:2\n",
      "1:5 2:4\n"
     ]
    }
   ],
   "source": [
    "for(auto pair: node_pairs)\n",
    "{\n",
    "    auto find_first_iter = visited_set.find(pair.first);\n",
    "    if(find_first_iter == visited_set.end())\n",
    "    {\n",
    "        Graph_Node* local_node = new Graph_Node(pair.first);\n",
    "        graph_node_map[pair.first] = local_node;\n",
    "        visited_set.insert(pair.first);\n",
    "    }\n",
    "    auto find_second_iter = visited_set.find(pair.second);\n",
    "    if(find_second_iter == visited_set.end())\n",
    "    {\n",
    "        Graph_Node* local_node = new Graph_Node(pair.second);\n",
    "        graph_node_map[pair.second] = local_node;\n",
    "        visited_set.insert(pair.second);\n",
    "    }\n",
    "    cout << \"1:\" << pair.first << \" 2:\" << pair.second << \"\\n\";\n",
    "    graph_node_map[pair.first] -> children.push_back(graph_node_map[pair.second]);\n",
    "}"
   ]
  },
  {
   "cell_type": "code",
   "execution_count": 63,
   "id": "adolescent-thesaurus",
   "metadata": {},
   "outputs": [
    {
     "data": {
      "text/plain": [
       "1"
      ]
     },
     "execution_count": 63,
     "metadata": {},
     "output_type": "execute_result"
    }
   ],
   "source": [
    "node_pairs[0].first"
   ]
  },
  {
   "cell_type": "code",
   "execution_count": 64,
   "id": "respected-knitting",
   "metadata": {},
   "outputs": [],
   "source": [
    "void recurse_dfs_cycles(Graph_Node* graph_node, int &cycles, unordered_set< int > &visited_nodes)\n",
    "{\n",
    "    for(auto iter = graph_node -> children.begin(); iter != graph_node -> children.end();)\n",
    "    {\n",
    "        // cout << (*iter) -> val << \"\\n\";\n",
    "        // iter++;\n",
    "        auto find_iter = visited_nodes.find((*iter) -> val);\n",
    "        if(find_iter != visited_nodes.end())\n",
    "        {\n",
    "            cout << \"parent: \" << graph_node -> val << \" child: \" << (*iter) -> val << \"\\n\";\n",
    "            iter = graph_node -> children.erase(iter);\n",
    "            cycles += 1;\n",
    "            cout << \"cycles count: \" << cycles << \"\\n\";\n",
    "        }\n",
    "        else\n",
    "        {\n",
    "            visited_nodes.insert((*iter) -> val);\n",
    "            recurse_dfs_cycles((*iter), cycles, visited_nodes);\n",
    "            ++iter;\n",
    "        }\n",
    "    }\n",
    "}"
   ]
  },
  {
   "cell_type": "code",
   "execution_count": 65,
   "id": "american-thompson",
   "metadata": {},
   "outputs": [],
   "source": [
    "// auto g_map = graph_node_map[1];"
   ]
  },
  {
   "cell_type": "code",
   "execution_count": 66,
   "id": "proud-struggle",
   "metadata": {},
   "outputs": [],
   "source": [
    "// int a = g_map -> val;"
   ]
  },
  {
   "cell_type": "code",
   "execution_count": 67,
   "id": "affected-raise",
   "metadata": {},
   "outputs": [],
   "source": [
    "// a"
   ]
  },
  {
   "cell_type": "code",
   "execution_count": 68,
   "id": "armed-amsterdam",
   "metadata": {},
   "outputs": [],
   "source": [
    "// auto iter = g_map -> children.begin();"
   ]
  },
  {
   "cell_type": "code",
   "execution_count": 69,
   "id": "constant-intake",
   "metadata": {},
   "outputs": [],
   "source": [
    "// int b = **(iter) -> val;"
   ]
  },
  {
   "cell_type": "code",
   "execution_count": 70,
   "id": "comparable-uncertainty",
   "metadata": {},
   "outputs": [
    {
     "name": "stdout",
     "output_type": "stream",
     "text": [
      "parent: 5 child: 4\n",
      "cycles count: 1\n",
      "parent: 1 child: 4\n",
      "cycles count: 2\n"
     ]
    }
   ],
   "source": [
    "int cycles = 0;\n",
    "unordered_set< int > visited_nodes;\n",
    "auto graph_node = graph_node_map[1];\n",
    "recurse_dfs_cycles(graph_node, cycles, visited_nodes);"
   ]
  },
  {
   "cell_type": "code",
   "execution_count": 71,
   "id": "intensive-battlefield",
   "metadata": {},
   "outputs": [],
   "source": [
    "// ---------------"
   ]
  },
  {
   "cell_type": "code",
   "execution_count": 2,
   "id": "immune-dinner",
   "metadata": {},
   "outputs": [],
   "source": [
    "unordered_multimap< int, int > mmap{{1,2}, {1,3}};"
   ]
  },
  {
   "cell_type": "code",
   "execution_count": 3,
   "id": "transsexual-pasta",
   "metadata": {},
   "outputs": [],
   "source": [
    "auto its = mmap.equal_range(1);"
   ]
  },
  {
   "cell_type": "code",
   "execution_count": 4,
   "id": "golden-eleven",
   "metadata": {},
   "outputs": [
    {
     "name": "stdout",
     "output_type": "stream",
     "text": [
      "key: 1  val: 3\n",
      "key: 1  val: 2\n"
     ]
    }
   ],
   "source": [
    "for(auto it = its.first; it != its.second; it++)\n",
    "{\n",
    "    cout << \"key: \" << it -> first << \" \" << \" val: \" << it -> second << \"\\n\";\n",
    "}"
   ]
  },
  {
   "cell_type": "code",
   "execution_count": 2,
   "id": "external-circulation",
   "metadata": {},
   "outputs": [],
   "source": [
    "// --------------------"
   ]
  },
  {
   "cell_type": "code",
   "execution_count": 6,
   "id": "aboriginal-colon",
   "metadata": {},
   "outputs": [],
   "source": [
    "// string s = \"adceb\";\n",
    "// string p = \"*a*b\";\n",
    "\n",
    "// string s = \"acdcb\";\n",
    "// string p = \"a*c?b\";\n",
    "\n",
    "string s = \"cb\";\n",
    "string p = \"?a\";\n",
    "int s_len = s.length();\n",
    "int p_len = p.length();\n",
    "vector< vector< bool > > dp(s_len + 1, vector< bool >(p_len + 1));"
   ]
  },
  {
   "cell_type": "code",
   "execution_count": 7,
   "id": "reserved-segment",
   "metadata": {},
   "outputs": [
    {
     "name": "stdout",
     "output_type": "stream",
     "text": [
      "0\n"
     ]
    }
   ],
   "source": [
    "for(int i = 0; i <= p_len; i++)\n",
    "{\n",
    "    if(i == 0)\n",
    "    {\n",
    "        dp[0][i] = true;\n",
    "    }\n",
    "    else\n",
    "    {\n",
    "        if(p[i - 1] == '*')\n",
    "        {\n",
    "            dp[0][i] = dp[0][i - 1];\n",
    "        }\n",
    "        else\n",
    "        {\n",
    "            dp[0][i] = false;\n",
    "        }\n",
    "    }\n",
    "}\n",
    "\n",
    "for(int i = 1; i <= s_len; i++)\n",
    "{\n",
    "    for(int j = 0; j <= p_len; j++)\n",
    "    {\n",
    "        if(j == 0)\n",
    "        {\n",
    "            dp[i][j] = false; //even if * is first character, we can get it to be true from above line if it is true\n",
    "        }\n",
    "        else\n",
    "        {\n",
    "            if(s[i - 1] == p[j - 1] || p[j - 1] == '?')\n",
    "            {\n",
    "                dp[i][j] = dp[i - 1][j - 1];\n",
    "            }\n",
    "            else\n",
    "            {\n",
    "                if(p[j - 1] == '*')\n",
    "                {\n",
    "                    dp[i][j] = dp[i - 1][j] || dp[i][j - 1];\n",
    "                }\n",
    "            }\n",
    "        }\n",
    "    }\n",
    "}\n",
    "\n",
    "cout << dp[s_len][p_len] << \"\\n\";"
   ]
  },
  {
   "cell_type": "code",
   "execution_count": 8,
   "id": "polish-riding",
   "metadata": {},
   "outputs": [],
   "source": [
    "// -------------------"
   ]
  },
  {
   "cell_type": "code",
   "execution_count": 9,
   "id": "welsh-field",
   "metadata": {},
   "outputs": [],
   "source": [
    "void permute_vector(vector< int > &permute_vec, unordered_set< int > &perm_checker, vector< int > &temp_vec, vector< vector< int > > &solution_vec)\n",
    "{\n",
    "    if(permute_vec.size() == temp_vec.size())\n",
    "    {\n",
    "        solution_vec.push_back(temp_vec);\n",
    "        return;\n",
    "    }\n",
    "    for(auto x: permute_vec)\n",
    "    {\n",
    "        auto find_iter = perm_checker.find(x);\n",
    "        if(find_iter == perm_checker.end())\n",
    "        {\n",
    "            temp_vec.push_back(x);\n",
    "            perm_checker.insert(x);\n",
    "            permute_vector(permute_vec, perm_checker, temp_vec, solution_vec);\n",
    "            perm_checker.erase(x);\n",
    "            temp_vec.pop_back();\n",
    "        }\n",
    "    }\n",
    "}"
   ]
  },
  {
   "cell_type": "code",
   "execution_count": 10,
   "id": "extra-belarus",
   "metadata": {},
   "outputs": [],
   "source": [
    "vector< int > permuation_vec{1,2,3};\n",
    "unordered_set< int > perm_checker;\n",
    "vector< vector< int > > solution_vec;\n",
    "vector< int > temp_vec;\n",
    "permute_vector(permuation_vec, perm_checker, temp_vec, solution_vec);"
   ]
  },
  {
   "cell_type": "code",
   "execution_count": 11,
   "id": "behind-arnold",
   "metadata": {},
   "outputs": [
    {
     "data": {
      "text/plain": [
       "{ { 1, 2, 3 }, { 1, 3, 2 }, { 2, 1, 3 }, { 2, 3, 1 }, { 3, 1, 2 }, { 3, 2, 1 } }"
      ]
     },
     "execution_count": 11,
     "metadata": {},
     "output_type": "execute_result"
    }
   ],
   "source": [
    "solution_vec"
   ]
  },
  {
   "cell_type": "code",
   "execution_count": 12,
   "id": "molecular-houston",
   "metadata": {},
   "outputs": [],
   "source": [
    "// Output: [[1,2,3],[1,3,2],[2,1,3],[2,3,1],[3,1,2],[3,2,1]]"
   ]
  },
  {
   "cell_type": "code",
   "execution_count": 13,
   "id": "alpha-brazil",
   "metadata": {},
   "outputs": [],
   "source": [
    "// ------------------------"
   ]
  },
  {
   "cell_type": "code",
   "execution_count": 15,
   "id": "otherwise-karma",
   "metadata": {},
   "outputs": [],
   "source": [
    "int a = 1"
   ]
  },
  {
   "cell_type": "code",
   "execution_count": 3,
   "id": "guilty-numbers",
   "metadata": {},
   "outputs": [],
   "source": [
    "int add_val(int x)\n",
    "{\n",
    "    return x;\n",
    "}"
   ]
  },
  {
   "cell_type": "code",
   "execution_count": 4,
   "id": "israeli-reducing",
   "metadata": {},
   "outputs": [
    {
     "name": "stderr",
     "output_type": "stream",
     "text": [
      "\u001b[1minput_line_11:2:16: \u001b[0m\u001b[0;1;31merror: \u001b[0m\u001b[1mno matching constructor for initialization of 'vector<int>'\u001b[0m\n",
      " vector< int > test_1{1,2,3};\n",
      "\u001b[0;1;32m               ^     ~~~~~~~\n",
      "\u001b[0m\u001b[1m/home/ubuntu/anaconda3/envs/xeus-cling/bin/../lib/gcc/x86_64-conda-linux-gnu/9.3.0/../../../../x86_64-conda-linux-gnu/include/c++/9.3.0/bits/stl_vector.h:519:7: \u001b[0m\u001b[0;1;30mnote: \u001b[0mcandidate constructor not viable: no known conversion from 'int' to 'const std::vector<int, std::allocator<int> >::allocator_type' (aka 'const std::allocator<int>') for 3rd argument\u001b[0m\n",
      "      vector(size_type __n, const value_type& __value,\n",
      "\u001b[0;1;32m      ^\n",
      "\u001b[0m\u001b[1m/home/ubuntu/anaconda3/envs/xeus-cling/bin/../lib/gcc/x86_64-conda-linux-gnu/9.3.0/../../../../x86_64-conda-linux-gnu/include/c++/9.3.0/bits/stl_vector.h:582:7: \u001b[0m\u001b[0;1;30mnote: \u001b[0mcandidate constructor not viable: no known conversion from 'int' to 'std::vector<int, std::allocator<int> >' for 1st argument\u001b[0m\n",
      "      vector(vector&& __rv, const allocator_type& __m, true_type) noexcept\n",
      "\u001b[0;1;32m      ^\n",
      "\u001b[0m\u001b[1m/home/ubuntu/anaconda3/envs/xeus-cling/bin/../lib/gcc/x86_64-conda-linux-gnu/9.3.0/../../../../x86_64-conda-linux-gnu/include/c++/9.3.0/bits/stl_vector.h:586:7: \u001b[0m\u001b[0;1;30mnote: \u001b[0mcandidate constructor not viable: no known conversion from 'int' to 'std::vector<int, std::allocator<int> >' for 1st argument\u001b[0m\n",
      "      vector(vector&& __rv, const allocator_type& __m, false_type)\n",
      "\u001b[0;1;32m      ^\n",
      "\u001b[0m\u001b[1m/home/ubuntu/anaconda3/envs/xeus-cling/bin/../lib/gcc/x86_64-conda-linux-gnu/9.3.0/../../../../x86_64-conda-linux-gnu/include/c++/9.3.0/bits/stl_vector.h:650:2: \u001b[0m\u001b[0;1;30mnote: \u001b[0mcandidate template ignored: substitution failure [with _InputIterator = int]: no type named 'iterator_category' in 'std::iterator_traits<int>'\u001b[0m\n",
      "        vector(_InputIterator __first, _InputIterator __last,\n",
      "\u001b[0;1;32m        ^\n",
      "\u001b[0m\u001b[1m/home/ubuntu/anaconda3/envs/xeus-cling/bin/../lib/gcc/x86_64-conda-linux-gnu/9.3.0/../../../../x86_64-conda-linux-gnu/include/c++/9.3.0/bits/stl_vector.h:507:7: \u001b[0m\u001b[0;1;30mnote: \u001b[0mcandidate constructor not viable: requires at most 2 arguments, but 3 were provided\u001b[0m\n",
      "      vector(size_type __n, const allocator_type& __a = allocator_type())\n",
      "\u001b[0;1;32m      ^\n",
      "\u001b[0m\u001b[1m/home/ubuntu/anaconda3/envs/xeus-cling/bin/../lib/gcc/x86_64-conda-linux-gnu/9.3.0/../../../../x86_64-conda-linux-gnu/include/c++/9.3.0/bits/stl_vector.h:572:7: \u001b[0m\u001b[0;1;30mnote: \u001b[0mcandidate constructor not viable: requires 2 arguments, but 3 were provided\u001b[0m\n",
      "      vector(const vector& __x, const allocator_type& __a)\n",
      "\u001b[0;1;32m      ^\n",
      "\u001b[0m\u001b[1m/home/ubuntu/anaconda3/envs/xeus-cling/bin/../lib/gcc/x86_64-conda-linux-gnu/9.3.0/../../../../x86_64-conda-linux-gnu/include/c++/9.3.0/bits/stl_vector.h:604:7: \u001b[0m\u001b[0;1;30mnote: \u001b[0mcandidate constructor not viable: requires 2 arguments, but 3 were provided\u001b[0m\n",
      "      vector(vector&& __rv, const allocator_type& __m)\n",
      "\u001b[0;1;32m      ^\n",
      "\u001b[0m\u001b[1m/home/ubuntu/anaconda3/envs/xeus-cling/bin/../lib/gcc/x86_64-conda-linux-gnu/9.3.0/../../../../x86_64-conda-linux-gnu/include/c++/9.3.0/bits/stl_vector.h:494:7: \u001b[0m\u001b[0;1;30mnote: \u001b[0mcandidate constructor not viable: requires single argument '__a', but 3 arguments were provided\u001b[0m\n",
      "      vector(const allocator_type& __a) _GLIBCXX_NOEXCEPT\n",
      "\u001b[0;1;32m      ^\n",
      "\u001b[0m\u001b[1m/home/ubuntu/anaconda3/envs/xeus-cling/bin/../lib/gcc/x86_64-conda-linux-gnu/9.3.0/../../../../x86_64-conda-linux-gnu/include/c++/9.3.0/bits/stl_vector.h:550:7: \u001b[0m\u001b[0;1;30mnote: \u001b[0mcandidate constructor not viable: requires single argument '__x', but 3 arguments were provided\u001b[0m\n",
      "      vector(const vector& __x)\n",
      "\u001b[0;1;32m      ^\n",
      "\u001b[0m\u001b[1m/home/ubuntu/anaconda3/envs/xeus-cling/bin/../lib/gcc/x86_64-conda-linux-gnu/9.3.0/../../../../x86_64-conda-linux-gnu/include/c++/9.3.0/bits/stl_vector.h:569:7: \u001b[0m\u001b[0;1;30mnote: \u001b[0mcandidate constructor not viable: requires 1 argument, but 3 were provided\u001b[0m\n",
      "      vector(vector&&) noexcept = default;\n",
      "\u001b[0;1;32m      ^\n",
      "\u001b[0m\u001b[1minput_line_11:3:15: \u001b[0m\u001b[0;1;31merror: \u001b[0m\u001b[1mno matching constructor for initialization of 'vector<int>'\u001b[0m\n",
      "vector< int > test_2{4,5,6};\n",
      "\u001b[0;1;32m              ^     ~~~~~~~\n",
      "\u001b[0m\u001b[1m/home/ubuntu/anaconda3/envs/xeus-cling/bin/../lib/gcc/x86_64-conda-linux-gnu/9.3.0/../../../../x86_64-conda-linux-gnu/include/c++/9.3.0/bits/stl_vector.h:519:7: \u001b[0m\u001b[0;1;30mnote: \u001b[0mcandidate constructor not viable: no known conversion from 'int' to 'const std::vector<int, std::allocator<int> >::allocator_type' (aka 'const std::allocator<int>') for 3rd argument\u001b[0m\n",
      "      vector(size_type __n, const value_type& __value,\n",
      "\u001b[0;1;32m      ^\n",
      "\u001b[0m\u001b[1m/home/ubuntu/anaconda3/envs/xeus-cling/bin/../lib/gcc/x86_64-conda-linux-gnu/9.3.0/../../../../x86_64-conda-linux-gnu/include/c++/9.3.0/bits/stl_vector.h:582:7: \u001b[0m\u001b[0;1;30mnote: \u001b[0mcandidate constructor not viable: no known conversion from 'int' to 'std::vector<int, std::allocator<int> >' for 1st argument\u001b[0m\n",
      "      vector(vector&& __rv, const allocator_type& __m, true_type) noexcept\n",
      "\u001b[0;1;32m      ^\n",
      "\u001b[0m\u001b[1m/home/ubuntu/anaconda3/envs/xeus-cling/bin/../lib/gcc/x86_64-conda-linux-gnu/9.3.0/../../../../x86_64-conda-linux-gnu/include/c++/9.3.0/bits/stl_vector.h:586:7: \u001b[0m\u001b[0;1;30mnote: \u001b[0mcandidate constructor not viable: no known conversion from 'int' to 'std::vector<int, std::allocator<int> >' for 1st argument\u001b[0m\n",
      "      vector(vector&& __rv, const allocator_type& __m, false_type)\n",
      "\u001b[0;1;32m      ^\n",
      "\u001b[0m\u001b[1m/home/ubuntu/anaconda3/envs/xeus-cling/bin/../lib/gcc/x86_64-conda-linux-gnu/9.3.0/../../../../x86_64-conda-linux-gnu/include/c++/9.3.0/bits/stl_vector.h:650:2: \u001b[0m\u001b[0;1;30mnote: \u001b[0mcandidate template ignored: substitution failure [with _InputIterator = int]: no type named 'iterator_category' in 'std::iterator_traits<int>'\u001b[0m\n",
      "        vector(_InputIterator __first, _InputIterator __last,\n",
      "\u001b[0;1;32m        ^\n",
      "\u001b[0m\u001b[1m/home/ubuntu/anaconda3/envs/xeus-cling/bin/../lib/gcc/x86_64-conda-linux-gnu/9.3.0/../../../../x86_64-conda-linux-gnu/include/c++/9.3.0/bits/stl_vector.h:507:7: \u001b[0m\u001b[0;1;30mnote: \u001b[0mcandidate constructor not viable: requires at most 2 arguments, but 3 were provided\u001b[0m\n",
      "      vector(size_type __n, const allocator_type& __a = allocator_type())\n",
      "\u001b[0;1;32m      ^\n",
      "\u001b[0m\u001b[1m/home/ubuntu/anaconda3/envs/xeus-cling/bin/../lib/gcc/x86_64-conda-linux-gnu/9.3.0/../../../../x86_64-conda-linux-gnu/include/c++/9.3.0/bits/stl_vector.h:572:7: \u001b[0m\u001b[0;1;30mnote: \u001b[0mcandidate constructor not viable: requires 2 arguments, but 3 were provided\u001b[0m\n",
      "      vector(const vector& __x, const allocator_type& __a)\n",
      "\u001b[0;1;32m      ^\n",
      "\u001b[0m\u001b[1m/home/ubuntu/anaconda3/envs/xeus-cling/bin/../lib/gcc/x86_64-conda-linux-gnu/9.3.0/../../../../x86_64-conda-linux-gnu/include/c++/9.3.0/bits/stl_vector.h:604:7: \u001b[0m\u001b[0;1;30mnote: \u001b[0mcandidate constructor not viable: requires 2 arguments, but 3 were provided\u001b[0m\n",
      "      vector(vector&& __rv, const allocator_type& __m)\n",
      "\u001b[0;1;32m      ^\n",
      "\u001b[0m\u001b[1m/home/ubuntu/anaconda3/envs/xeus-cling/bin/../lib/gcc/x86_64-conda-linux-gnu/9.3.0/../../../../x86_64-conda-linux-gnu/include/c++/9.3.0/bits/stl_vector.h:494:7: \u001b[0m\u001b[0;1;30mnote: \u001b[0mcandidate constructor not viable: requires single argument '__a', but 3 arguments were provided\u001b[0m\n",
      "      vector(const allocator_type& __a) _GLIBCXX_NOEXCEPT\n",
      "\u001b[0;1;32m      ^\n",
      "\u001b[0m\u001b[1m/home/ubuntu/anaconda3/envs/xeus-cling/bin/../lib/gcc/x86_64-conda-linux-gnu/9.3.0/../../../../x86_64-conda-linux-gnu/include/c++/9.3.0/bits/stl_vector.h:550:7: \u001b[0m\u001b[0;1;30mnote: \u001b[0mcandidate constructor not viable: requires single argument '__x', but 3 arguments were provided\u001b[0m\n",
      "      vector(const vector& __x)\n",
      "\u001b[0;1;32m      ^\n",
      "\u001b[0m\u001b[1m/home/ubuntu/anaconda3/envs/xeus-cling/bin/../lib/gcc/x86_64-conda-linux-gnu/9.3.0/../../../../x86_64-conda-linux-gnu/include/c++/9.3.0/bits/stl_vector.h:569:7: \u001b[0m\u001b[0;1;30mnote: \u001b[0mcandidate constructor not viable: requires 1 argument, but 3 were provided\u001b[0m\n",
      "      vector(vector&&) noexcept = default;\n",
      "\u001b[0;1;32m      ^\n",
      "\u001b[0m\u001b[1minput_line_11:4:13: \u001b[0m\u001b[0;1;31merror: \u001b[0m\u001b[1mno matching constructor for initialization of 'vector<int>'\u001b[0m\n",
      "vector<int> new_args;\n",
      "\u001b[0;1;32m            ^\n",
      "\u001b[0m\u001b[1m/home/ubuntu/anaconda3/envs/xeus-cling/bin/../lib/gcc/x86_64-conda-linux-gnu/9.3.0/../../../../x86_64-conda-linux-gnu/include/c++/9.3.0/bits/stl_vector.h:650:2: \u001b[0m\u001b[0;1;30mnote: \u001b[0mcandidate constructor template not viable: requires at least 2 arguments, but 0 were provided\u001b[0m\n",
      "        vector(_InputIterator __first, _InputIterator __last,\n",
      "\u001b[0;1;32m        ^\n",
      "\u001b[0m\u001b[1m/home/ubuntu/anaconda3/envs/xeus-cling/bin/../lib/gcc/x86_64-conda-linux-gnu/9.3.0/../../../../x86_64-conda-linux-gnu/include/c++/9.3.0/bits/stl_vector.h:494:7: \u001b[0m\u001b[0;1;30mnote: \u001b[0mcandidate constructor not viable: requires single argument '__a', but no arguments were provided\u001b[0m\n",
      "      vector(const allocator_type& __a) _GLIBCXX_NOEXCEPT\n",
      "\u001b[0;1;32m      ^\n",
      "\u001b[0m\u001b[1m/home/ubuntu/anaconda3/envs/xeus-cling/bin/../lib/gcc/x86_64-conda-linux-gnu/9.3.0/../../../../x86_64-conda-linux-gnu/include/c++/9.3.0/bits/stl_vector.h:550:7: \u001b[0m\u001b[0;1;30mnote: \u001b[0mcandidate constructor not viable: requires single argument '__x', but no arguments were provided\u001b[0m\n",
      "      vector(const vector& __x)\n",
      "\u001b[0;1;32m      ^\n",
      "\u001b[0m\u001b[1m/home/ubuntu/anaconda3/envs/xeus-cling/bin/../lib/gcc/x86_64-conda-linux-gnu/9.3.0/../../../../x86_64-conda-linux-gnu/include/c++/9.3.0/bits/stl_vector.h:569:7: \u001b[0m\u001b[0;1;30mnote: \u001b[0mcandidate constructor not viable: requires 1 argument, but 0 were provided\u001b[0m\n",
      "      vector(vector&&) noexcept = default;\n",
      "\u001b[0;1;32m      ^\n",
      "\u001b[0m\u001b[1m/home/ubuntu/anaconda3/envs/xeus-cling/bin/../lib/gcc/x86_64-conda-linux-gnu/9.3.0/../../../../x86_64-conda-linux-gnu/include/c++/9.3.0/bits/stl_vector.h:507:7: \u001b[0m\u001b[0;1;30mnote: \u001b[0mcandidate constructor not viable: requires at least argument '__n', but no arguments were provided\u001b[0m\n",
      "      vector(size_type __n, const allocator_type& __a = allocator_type())\n",
      "\u001b[0;1;32m      ^\n",
      "\u001b[0m\u001b[1m/home/ubuntu/anaconda3/envs/xeus-cling/bin/../lib/gcc/x86_64-conda-linux-gnu/9.3.0/../../../../x86_64-conda-linux-gnu/include/c++/9.3.0/bits/stl_vector.h:572:7: \u001b[0m\u001b[0;1;30mnote: \u001b[0mcandidate constructor not viable: requires 2 arguments, but 0 were provided\u001b[0m\n",
      "      vector(const vector& __x, const allocator_type& __a)\n",
      "\u001b[0;1;32m      ^\n",
      "\u001b[0m\u001b[1m/home/ubuntu/anaconda3/envs/xeus-cling/bin/../lib/gcc/x86_64-conda-linux-gnu/9.3.0/../../../../x86_64-conda-linux-gnu/include/c++/9.3.0/bits/stl_vector.h:604:7: \u001b[0m\u001b[0;1;30mnote: \u001b[0mcandidate constructor not viable: requires 2 arguments, but 0 were provided\u001b[0m\n",
      "      vector(vector&& __rv, const allocator_type& __m)\n",
      "\u001b[0;1;32m      ^\n",
      "\u001b[0m\u001b[1m/home/ubuntu/anaconda3/envs/xeus-cling/bin/../lib/gcc/x86_64-conda-linux-gnu/9.3.0/../../../../x86_64-conda-linux-gnu/include/c++/9.3.0/bits/stl_vector.h:519:7: \u001b[0m\u001b[0;1;30mnote: \u001b[0mcandidate constructor not viable: requires at least 2 arguments, but 0 were provided\u001b[0m\n",
      "      vector(size_type __n, const value_type& __value,\n",
      "\u001b[0;1;32m      ^\n",
      "\u001b[0m\u001b[1m/home/ubuntu/anaconda3/envs/xeus-cling/bin/../lib/gcc/x86_64-conda-linux-gnu/9.3.0/../../../../x86_64-conda-linux-gnu/include/c++/9.3.0/bits/stl_vector.h:582:7: \u001b[0m\u001b[0;1;30mnote: \u001b[0mcandidate constructor not viable: requires 3 arguments, but 0 were provided\u001b[0m\n",
      "      vector(vector&& __rv, const allocator_type& __m, true_type) noexcept\n",
      "\u001b[0;1;32m      ^\n",
      "\u001b[0m\u001b[1m/home/ubuntu/anaconda3/envs/xeus-cling/bin/../lib/gcc/x86_64-conda-linux-gnu/9.3.0/../../../../x86_64-conda-linux-gnu/include/c++/9.3.0/bits/stl_vector.h:586:7: \u001b[0m\u001b[0;1;30mnote: \u001b[0mcandidate constructor not viable: requires 3 arguments, but 0 were provided\u001b[0m\n",
      "      vector(vector&& __rv, const allocator_type& __m, false_type)\n",
      "\u001b[0;1;32m      ^\n",
      "\u001b[0m"
     ]
    },
    {
     "ename": "Interpreter Error",
     "evalue": "",
     "output_type": "error",
     "traceback": [
      "Interpreter Error: "
     ]
    }
   ],
   "source": [
    "vector< int > test_1{1,2,3};\n",
    "vector< int > test_2{4,5,6};\n",
    "vector<int> new_args;\n",
    "new_args.reserve(test_1.size());\n",
    "transform(test_1.begin(), test_1.end(), back_inserter(new_args), add_val);"
   ]
  },
  {
   "cell_type": "code",
   "execution_count": 2,
   "id": "accessible-angola",
   "metadata": {},
   "outputs": [],
   "source": [
    "// ======="
   ]
  },
  {
   "cell_type": "code",
   "execution_count": 6,
   "id": "synthetic-territory",
   "metadata": {},
   "outputs": [],
   "source": [
    "#define ll long long int"
   ]
  },
  {
   "cell_type": "code",
   "execution_count": 3,
   "id": "metropolitan-ecology",
   "metadata": {},
   "outputs": [],
   "source": [
    "vector< int > permute_dups{1,1,2};"
   ]
  },
  {
   "cell_type": "code",
   "execution_count": 4,
   "id": "tight-perception",
   "metadata": {},
   "outputs": [
    {
     "data": {
      "text/plain": [
       "{ 1, 1, 2 }"
      ]
     },
     "execution_count": 4,
     "metadata": {},
     "output_type": "execute_result"
    }
   ],
   "source": [
    "permute_dups"
   ]
  },
  {
   "cell_type": "code",
   "execution_count": 2,
   "id": "homeless-nature",
   "metadata": {},
   "outputs": [],
   "source": [
    "class CompareClass\n",
    "{\n",
    "    public:\n",
    "        bool operator()(const ll val_1, const ll val_2) const\n",
    "        {\n",
    "            if(val_1 <= val_2)\n",
    "            {\n",
    "                return true;\n",
    "            }\n",
    "            return false;\n",
    "        }\n",
    "};"
   ]
  },
  {
   "cell_type": "code",
   "execution_count": 3,
   "id": "alien-authentication",
   "metadata": {},
   "outputs": [],
   "source": [
    "class HASH\n",
    "{\n",
    "    public:\n",
    "        size_t operator()(const pair< ll, ll > &hash_pair) const\n",
    "        {\n",
    "            return hash< int >()(hash_pair.first ^ (hash_pair.second << 32));\n",
    "        }\n",
    "};"
   ]
  },
  {
   "cell_type": "code",
   "execution_count": 4,
   "id": "shared-matter",
   "metadata": {},
   "outputs": [],
   "source": [
    "void permute_vector_dups(vector< int > &permute_vec, unordered_set< int > &perm_checker, vector< int > &temp_vec, vector< vector< int > > &solution_vec)\n",
    "{\n",
    "    if(permute_vec.size() == temp_vec.size())\n",
    "    {\n",
    "        solution_vec.push_back(temp_vec);\n",
    "        return;\n",
    "    }\n",
    "    for(auto x: permute_vec)\n",
    "    {\n",
    "        auto find_iter = perm_checker.find(x);\n",
    "        if(find_iter == perm_checker.end())\n",
    "        {\n",
    "            temp_vec.push_back(x);\n",
    "            perm_checker.insert(x);\n",
    "            permute_vector_dups(permute_vec, perm_checker, temp_vec, solution_vec);\n",
    "            perm_checker.erase(x);\n",
    "            temp_vec.pop_back();\n",
    "        }\n",
    "    }\n",
    "}"
   ]
  },
  {
   "cell_type": "code",
   "execution_count": 4,
   "id": "relative-durham",
   "metadata": {},
   "outputs": [],
   "source": [
    "void permute_vector_duplicates(vector< ll > &permute_vec, unordered_set< ll > &perm_checker_index, vector< ll > &temp_vec, vector< vector< ll > > &solution_vec)\n",
    "{\n",
    "    if(permute_vec.size() == temp_vec.size())\n",
    "    {\n",
    "        solution_vec.push_back(temp_vec);\n",
    "        return;\n",
    "    }\n",
    "    int i = 0;\n",
    "    unordered_set< ll > perm_checker_val;\n",
    "    for(auto x: permute_vec)\n",
    "    {\n",
    "        auto find_iter_index = perm_checker_index.find(i);\n",
    "        auto find_iter_val = perm_checker_val.find(x);\n",
    "        if(find_iter_index == perm_checker_index.end() and find_iter_val == perm_checker_val.end())\n",
    "        {\n",
    "            temp_vec.push_back(x);\n",
    "            perm_checker_index.insert(i);\n",
    "            perm_checker_val.insert(x);\n",
    "            permute_vector_duplicates(permute_vec, perm_checker_index, temp_vec, solution_vec);\n",
    "            perm_checker_index.erase(i);\n",
    "            temp_vec.pop_back();\n",
    "        }\n",
    "        i++;\n",
    "    }\n",
    "}"
   ]
  },
  {
   "cell_type": "code",
   "execution_count": 11,
   "id": "parallel-lodging",
   "metadata": {},
   "outputs": [],
   "source": [
    "vector< ll > permuation_vec_dups{1,1,2};\n",
    "sort(permuation_vec_dups.begin(), permuation_vec_dups.end(), CompareClass());\n",
    "// unordered_set< int > perm_checker;\n",
    "// vector< vector< int > > solution_vec;\n",
    "// vector< int > temp_vec;\n",
    "// permute_vector_dups(permuation_vec, perm_checker, temp_vec, solution_vec);"
   ]
  },
  {
   "cell_type": "code",
   "execution_count": 12,
   "id": "reduced-fantasy",
   "metadata": {},
   "outputs": [
    {
     "data": {
      "text/plain": [
       "{ 1, 1, 2 }"
      ]
     },
     "execution_count": 12,
     "metadata": {},
     "output_type": "execute_result"
    }
   ],
   "source": [
    "permuation_vec_dups"
   ]
  },
  {
   "cell_type": "code",
   "execution_count": 13,
   "id": "blond-haiti",
   "metadata": {},
   "outputs": [],
   "source": [
    "unordered_set< pair< ll, ll >, HASH > perm_checker;\n",
    "vector< vector< ll > > solution_vec;\n",
    "vector< ll > temp_vec;"
   ]
  },
  {
   "cell_type": "code",
   "execution_count": 14,
   "id": "interim-amateur",
   "metadata": {},
   "outputs": [],
   "source": [
    "// solution_vec"
   ]
  },
  {
   "cell_type": "code",
   "execution_count": 15,
   "id": "proud-running",
   "metadata": {},
   "outputs": [],
   "source": [
    "unordered_set< ll > perm_checker_index;"
   ]
  },
  {
   "cell_type": "code",
   "execution_count": 16,
   "id": "wired-turning",
   "metadata": {},
   "outputs": [],
   "source": [
    "permute_vector_duplicates(permuation_vec_dups, perm_checker_index, temp_vec, solution_vec);"
   ]
  },
  {
   "cell_type": "code",
   "execution_count": 17,
   "id": "biological-dylan",
   "metadata": {},
   "outputs": [
    {
     "data": {
      "text/plain": [
       "{ { 1, 1, 2 }, { 1, 2, 1 }, { 2, 1, 1 } }"
      ]
     },
     "execution_count": 17,
     "metadata": {},
     "output_type": "execute_result"
    }
   ],
   "source": [
    "solution_vec"
   ]
  },
  {
   "cell_type": "code",
   "execution_count": 18,
   "id": "different-masters",
   "metadata": {},
   "outputs": [],
   "source": [
    "vector< ll > permuation_vec_dups_2{1,2,3};\n",
    "sort(permuation_vec_dups_2.begin(), permuation_vec_dups_2.end(), CompareClass());"
   ]
  },
  {
   "cell_type": "code",
   "execution_count": 19,
   "id": "clear-wagner",
   "metadata": {},
   "outputs": [],
   "source": [
    "permute_vector_duplicates(permuation_vec_dups_2, perm_checker_index, temp_vec, solution_vec);"
   ]
  },
  {
   "cell_type": "code",
   "execution_count": 20,
   "id": "about-cleveland",
   "metadata": {},
   "outputs": [
    {
     "data": {
      "text/plain": [
       "{ { 1, 1, 2 }, { 1, 2, 1 }, { 2, 1, 1 }, { 1, 2, 3 }, { 1, 3, 2 }, { 2, 1, 3 }, { 2, 3, 1 }, { 3, 1, 2 }, { 3, 2, 1 } }"
      ]
     },
     "execution_count": 20,
     "metadata": {},
     "output_type": "execute_result"
    }
   ],
   "source": [
    "solution_vec"
   ]
  },
  {
   "cell_type": "code",
   "execution_count": 21,
   "id": "legislative-accident",
   "metadata": {},
   "outputs": [],
   "source": [
    "// --------------------"
   ]
  },
  {
   "cell_type": "code",
   "execution_count": 26,
   "id": "iraqi-citation",
   "metadata": {},
   "outputs": [],
   "source": [
    "int m = 3, n = 7;"
   ]
  },
  {
   "cell_type": "code",
   "execution_count": 27,
   "id": "biological-illinois",
   "metadata": {},
   "outputs": [],
   "source": [
    "vector< vector< int > > dp(m, vector< int >(n));"
   ]
  },
  {
   "cell_type": "code",
   "execution_count": 28,
   "id": "underlying-effects",
   "metadata": {},
   "outputs": [],
   "source": [
    "for(int i = 0; i < m; i++)\n",
    "{\n",
    "    for(int j = 0; j < n; j++)\n",
    "    {\n",
    "        if(i == 0 and j == 0)\n",
    "        {\n",
    "            dp[i][j] = 0;\n",
    "        }\n",
    "        else if(i == 0)\n",
    "        {\n",
    "            dp[i][j] = 1;\n",
    "        }\n",
    "        else if(j == 0)\n",
    "        {\n",
    "            dp[i][j] = 1;\n",
    "        }\n",
    "        else\n",
    "        {\n",
    "            dp[i][j] = dp[i - 1][j] + dp[i][j - 1];\n",
    "        }\n",
    "    }\n",
    "}"
   ]
  },
  {
   "cell_type": "code",
   "execution_count": 29,
   "id": "copyrighted-leadership",
   "metadata": {},
   "outputs": [
    {
     "name": "stdout",
     "output_type": "stream",
     "text": [
      "28\n"
     ]
    }
   ],
   "source": [
    "cout << dp[m - 1][n - 1] << \"\\n\";"
   ]
  },
  {
   "cell_type": "code",
   "execution_count": 2,
   "id": "orange-arlington",
   "metadata": {},
   "outputs": [],
   "source": [
    "// -------------"
   ]
  },
  {
   "cell_type": "code",
   "execution_count": 3,
   "id": "confirmed-recipe",
   "metadata": {},
   "outputs": [],
   "source": [
    "vector< int > vec_ex{1,2,3};"
   ]
  },
  {
   "cell_type": "code",
   "execution_count": 4,
   "id": "gentle-dallas",
   "metadata": {},
   "outputs": [],
   "source": [
    "vector< int > temp_vec;\n",
    "vector< vector< int > > solution_vec;\n",
    "solution_vec.push_back(temp_vec);"
   ]
  },
  {
   "cell_type": "code",
   "execution_count": 5,
   "id": "built-demonstration",
   "metadata": {},
   "outputs": [],
   "source": [
    "void subset_finder(vector< int > example, vector< int > &temp_vec, vector< vector< int > > &solution_vec, int index, int tot_size)\n",
    "{\n",
    "    for(int i = index; i < tot_size; i++)\n",
    "    {\n",
    "        temp_vec.push_back(example[i]);\n",
    "        solution_vec.push_back(temp_vec);\n",
    "        subset_finder(example, temp_vec, solution_vec, i + 1, tot_size);\n",
    "        temp_vec.pop_back();\n",
    "    }\n",
    "}"
   ]
  },
  {
   "cell_type": "code",
   "execution_count": 6,
   "id": "satisfactory-provision",
   "metadata": {},
   "outputs": [],
   "source": [
    "subset_finder(vec_ex, temp_vec, solution_vec, 0, vec_ex.size());"
   ]
  },
  {
   "cell_type": "code",
   "execution_count": 7,
   "id": "fleet-refund",
   "metadata": {},
   "outputs": [
    {
     "data": {
      "text/plain": [
       "{ {}, { 1 }, { 1, 2 }, { 1, 2, 3 }, { 1, 3 }, { 2 }, { 2, 3 }, { 3 } }"
      ]
     },
     "execution_count": 7,
     "metadata": {},
     "output_type": "execute_result"
    }
   ],
   "source": [
    "solution_vec"
   ]
  },
  {
   "cell_type": "code",
   "execution_count": 2,
   "id": "first-hungary",
   "metadata": {},
   "outputs": [],
   "source": [
    "// -------------------------------"
   ]
  },
  {
   "cell_type": "code",
   "execution_count": 3,
   "id": "paperback-smooth",
   "metadata": {},
   "outputs": [],
   "source": [
    "vector< int > combination_sum{10,1,2,7,6,1,5};"
   ]
  },
  {
   "cell_type": "code",
   "execution_count": 4,
   "id": "smoking-vault",
   "metadata": {},
   "outputs": [],
   "source": [
    "sort(combination_sum.begin(), combination_sum.end(), [](const int &val_1, const int &val_2){\n",
    "    if(val_1 < val_2)\n",
    "    {\n",
    "        return true;\n",
    "    }\n",
    "    else\n",
    "    {\n",
    "        return false;\n",
    "    }\n",
    "});"
   ]
  },
  {
   "cell_type": "code",
   "execution_count": 5,
   "id": "million-jackson",
   "metadata": {},
   "outputs": [
    {
     "data": {
      "text/plain": [
       "{ 1, 1, 2, 5, 6, 7, 10 }"
      ]
     },
     "execution_count": 5,
     "metadata": {},
     "output_type": "execute_result"
    }
   ],
   "source": [
    "combination_sum"
   ]
  },
  {
   "cell_type": "code",
   "execution_count": 6,
   "id": "variable-manner",
   "metadata": {},
   "outputs": [],
   "source": [
    "int target_val = 8;"
   ]
  },
  {
   "cell_type": "code",
   "execution_count": 7,
   "id": "legitimate-kenya",
   "metadata": {},
   "outputs": [],
   "source": [
    "void comb_sum(vector< int > &input, vector< int > &temp, vector< vector< int > > &solution, int target_sum, int cur_index, int cur_sum, int input_size)\n",
    "{\n",
    "    if(cur_sum == target_sum)\n",
    "    {\n",
    "        solution.push_back(temp);\n",
    "        return;\n",
    "    }\n",
    "    for(int i = cur_index; i < input_size; i++)\n",
    "    {\n",
    "        cur_sum += input[i];\n",
    "        if(cur_sum > target_sum)\n",
    "        {\n",
    "            return;\n",
    "        }\n",
    "        temp.push_back(input[i]);\n",
    "        comb_sum(input, temp, solution, target_sum, i+1, cur_sum, input_size);\n",
    "        cur_sum -= input[i];\n",
    "        temp.pop_back();\n",
    "    }\n",
    "}"
   ]
  },
  {
   "cell_type": "code",
   "execution_count": 14,
   "id": "apart-going",
   "metadata": {},
   "outputs": [],
   "source": [
    "void comb_sum_duplicates(vector< int > &input, vector< int > &temp, vector< vector< int > > &solution, int target_sum, int cur_index, int cur_sum, int input_size)\n",
    "{\n",
    "    if(cur_sum == target_sum)\n",
    "    {\n",
    "        solution.push_back(temp);\n",
    "        return;\n",
    "    }\n",
    "    unordered_set< int > val_checker;\n",
    "    for(int i = cur_index; i < input_size; i++)\n",
    "    {\n",
    "        auto find_val_iter = val_checker.find(input[i]);\n",
    "        if(find_val_iter == val_checker.end())\n",
    "        {\n",
    "            cur_sum += input[i];\n",
    "            if(cur_sum > target_sum)\n",
    "            {\n",
    "                return;\n",
    "            }\n",
    "            val_checker.insert(input[i]);\n",
    "            temp.push_back(input[i]);\n",
    "            comb_sum(input, temp, solution, target_sum, i+1, cur_sum, input_size);\n",
    "            cur_sum -= input[i];\n",
    "            temp.pop_back();\n",
    "        }\n",
    "    }\n",
    "}"
   ]
  },
  {
   "cell_type": "code",
   "execution_count": 8,
   "id": "constant-freeware",
   "metadata": {},
   "outputs": [],
   "source": [
    "vector< int > temp;\n",
    "vector< vector< int > > solution;\n",
    "int cur_index = 0;\n",
    "int cur_sum = 0;\n",
    "int input_size = combination_sum.size();"
   ]
  },
  {
   "cell_type": "code",
   "execution_count": 11,
   "id": "suspected-stocks",
   "metadata": {},
   "outputs": [],
   "source": [
    "// unordered_set< int > index_checker;\n",
    "// unordered_set< int > val_checker;"
   ]
  },
  {
   "cell_type": "code",
   "execution_count": 9,
   "id": "frozen-possibility",
   "metadata": {},
   "outputs": [],
   "source": [
    "comb_sum(combination_sum, temp, solution, target_val, cur_index, cur_sum, input_size);"
   ]
  },
  {
   "cell_type": "code",
   "execution_count": 10,
   "id": "bronze-buddy",
   "metadata": {},
   "outputs": [
    {
     "data": {
      "text/plain": [
       "{ { 1, 1, 6 }, { 1, 2, 5 }, { 1, 7 }, { 1, 2, 5 }, { 1, 7 }, { 2, 6 } }"
      ]
     },
     "execution_count": 10,
     "metadata": {},
     "output_type": "execute_result"
    }
   ],
   "source": [
    "solution"
   ]
  },
  {
   "cell_type": "code",
   "execution_count": 12,
   "id": "detailed-tracker",
   "metadata": {},
   "outputs": [],
   "source": [
    "vector< int > temp;\n",
    "vector< vector< int > > solution;\n",
    "int cur_index = 0;\n",
    "int cur_sum = 0;\n",
    "int input_size = combination_sum.size();"
   ]
  },
  {
   "cell_type": "code",
   "execution_count": 15,
   "id": "covered-climate",
   "metadata": {},
   "outputs": [],
   "source": [
    "comb_sum_duplicates(combination_sum, temp, solution, target_val, cur_index, cur_sum, input_size);"
   ]
  },
  {
   "cell_type": "code",
   "execution_count": 16,
   "id": "naughty-property",
   "metadata": {},
   "outputs": [
    {
     "data": {
      "text/plain": [
       "{ { 1, 1, 6 }, { 1, 2, 5 }, { 1, 7 }, { 2, 6 } }"
      ]
     },
     "execution_count": 16,
     "metadata": {},
     "output_type": "execute_result"
    }
   ],
   "source": [
    "solution"
   ]
  },
  {
   "cell_type": "code",
   "execution_count": 2,
   "id": "agreed-graham",
   "metadata": {},
   "outputs": [],
   "source": [
    "// --------------"
   ]
  },
  {
   "cell_type": "code",
   "execution_count": 2,
   "id": "complete-scanner",
   "metadata": {},
   "outputs": [],
   "source": [
    "int num_nodes = 3;"
   ]
  },
  {
   "cell_type": "code",
   "execution_count": 3,
   "id": "liberal-waste",
   "metadata": {},
   "outputs": [],
   "source": [
    "class Node\n",
    "{\n",
    "    public:\n",
    "        int val;\n",
    "        Node *left;\n",
    "        Node *right;\n",
    "        Node(int x): val(x), left(NULL), right(NULL){}\n",
    "};"
   ]
  },
  {
   "cell_type": "code",
   "execution_count": 4,
   "id": "monthly-retreat",
   "metadata": {},
   "outputs": [],
   "source": [
    "std::vector< Node* > recurse_trees(unordered_set< int > &temp_checker, int start, int end)\n",
    "{\n",
    "    vector< Node* > solution;\n",
    "    for(int i = start; i <= end; i++)\n",
    "    {\n",
    "        auto find_iter = temp_checker.find(i);\n",
    "        if(find_iter == temp_checker.end())\n",
    "        {\n",
    "            temp_checker.insert(i);\n",
    "            vector< Node* > right_nodes = recurse_trees(temp_checker, i + 1, end);\n",
    "            right_nodes = not right_nodes.empty() ? right_nodes : vector< Node* >{NULL};\n",
    "            vector< Node* > left_nodes = recurse_trees(temp_checker, start, i - 1);\n",
    "            left_nodes = not left_nodes.empty() ? left_nodes : vector< Node* >{NULL};\n",
    "            for(auto right_node: right_nodes)\n",
    "            {\n",
    "                for(auto left_node: left_nodes)\n",
    "                {\n",
    "                    Node* node = new Node(i);\n",
    "                    node -> left = left_node;\n",
    "                    node -> right = right_node;\n",
    "                    solution.push_back(node);\n",
    "                }\n",
    "            }\n",
    "            temp_checker.erase(i);\n",
    "        }\n",
    "    }\n",
    "    return solution;\n",
    "}"
   ]
  },
  {
   "cell_type": "code",
   "execution_count": 5,
   "id": "suburban-duration",
   "metadata": {},
   "outputs": [],
   "source": [
    "unordered_set< int > temp_set;\n",
    "int start = 1;\n",
    "int end = 3;\n",
    "vector< Node* > uniq_bin_search_trees = recurse_trees(temp_set, start, end);"
   ]
  },
  {
   "cell_type": "code",
   "execution_count": 16,
   "id": "behind-hacker",
   "metadata": {},
   "outputs": [],
   "source": [
    "int c = 1;"
   ]
  },
  {
   "cell_type": "code",
   "execution_count": 5,
   "id": "pregnant-hacker",
   "metadata": {},
   "outputs": [],
   "source": [
    "int d = not c ? 100 : 200;"
   ]
  },
  {
   "cell_type": "code",
   "execution_count": 6,
   "id": "recent-florence",
   "metadata": {},
   "outputs": [
    {
     "data": {
      "text/plain": [
       "200"
      ]
     },
     "execution_count": 6,
     "metadata": {},
     "output_type": "execute_result"
    }
   ],
   "source": [
    "d"
   ]
  },
  {
   "cell_type": "code",
   "execution_count": 7,
   "id": "serial-world",
   "metadata": {},
   "outputs": [],
   "source": [
    "vector< Node* > sol;"
   ]
  },
  {
   "cell_type": "code",
   "execution_count": 8,
   "id": "wanted-invitation",
   "metadata": {},
   "outputs": [],
   "source": [
    "int e = not sol.empty() ? 100 : 200;"
   ]
  },
  {
   "cell_type": "code",
   "execution_count": 9,
   "id": "burning-sellers",
   "metadata": {},
   "outputs": [
    {
     "data": {
      "text/plain": [
       "200"
      ]
     },
     "execution_count": 9,
     "metadata": {},
     "output_type": "execute_result"
    }
   ],
   "source": [
    "e"
   ]
  },
  {
   "cell_type": "code",
   "execution_count": 10,
   "id": "forced-humanitarian",
   "metadata": {},
   "outputs": [],
   "source": [
    "sol = vector< Node* >{NULL};"
   ]
  },
  {
   "cell_type": "code",
   "execution_count": 11,
   "id": "floppy-equality",
   "metadata": {},
   "outputs": [
    {
     "data": {
      "text/plain": [
       "{ @0x563361758e50 }"
      ]
     },
     "execution_count": 11,
     "metadata": {},
     "output_type": "execute_result"
    }
   ],
   "source": [
    "sol"
   ]
  },
  {
   "cell_type": "code",
   "execution_count": 12,
   "id": "selected-acrobat",
   "metadata": {},
   "outputs": [
    {
     "name": "stdout",
     "output_type": "stream",
     "text": [
      "null pointer\n"
     ]
    }
   ],
   "source": [
    "for(auto x: sol)\n",
    "{\n",
    "    if(x == NULL)\n",
    "    {\n",
    "        cout << \"null pointer\" << \"\\n\";\n",
    "    }\n",
    "}"
   ]
  },
  {
   "cell_type": "code",
   "execution_count": 13,
   "id": "boxed-elimination",
   "metadata": {},
   "outputs": [],
   "source": [
    "vector< int > e = not sol.empty() ? vector< int >{1} : vector< int >{2};"
   ]
  },
  {
   "cell_type": "code",
   "execution_count": 14,
   "id": "wound-jason",
   "metadata": {},
   "outputs": [
    {
     "data": {
      "text/plain": [
       "{ 1 }"
      ]
     },
     "execution_count": 14,
     "metadata": {},
     "output_type": "execute_result"
    }
   ],
   "source": [
    "e"
   ]
  },
  {
   "cell_type": "code",
   "execution_count": 6,
   "id": "median-diagram",
   "metadata": {},
   "outputs": [
    {
     "data": {
      "text/plain": [
       "{ @0x55d020cedfb0, @0x55d020cedfb8, @0x55d020cedfc0, @0x55d020cedfc8, @0x55d020cedfd0 }"
      ]
     },
     "execution_count": 6,
     "metadata": {},
     "output_type": "execute_result"
    }
   ],
   "source": [
    "uniq_bin_search_trees"
   ]
  },
  {
   "cell_type": "code",
   "execution_count": 8,
   "id": "healthy-alert",
   "metadata": {},
   "outputs": [],
   "source": [
    "void print_trees_preorder(Node* node)\n",
    "{\n",
    "    if(node)\n",
    "    {\n",
    "        cout << node -> val << \"\\n\";\n",
    "    }\n",
    "    else\n",
    "    {\n",
    "        cout << \"NULL\" << \"\\n\";\n",
    "        return;\n",
    "    }\n",
    "    print_trees_preorder(node -> left);\n",
    "    print_trees_preorder(node -> right);\n",
    "    return;\n",
    "}"
   ]
  },
  {
   "cell_type": "code",
   "execution_count": 9,
   "id": "comfortable-annex",
   "metadata": {},
   "outputs": [
    {
     "name": "stdout",
     "output_type": "stream",
     "text": [
      "1\n",
      "NULL\n",
      "2\n",
      "NULL\n",
      "3\n",
      "NULL\n",
      "NULL\n",
      "------------------------\n",
      "1\n",
      "NULL\n",
      "3\n",
      "2\n",
      "NULL\n",
      "NULL\n",
      "NULL\n",
      "------------------------\n",
      "2\n",
      "1\n",
      "NULL\n",
      "NULL\n",
      "3\n",
      "NULL\n",
      "NULL\n",
      "------------------------\n",
      "3\n",
      "1\n",
      "NULL\n",
      "2\n",
      "NULL\n",
      "NULL\n",
      "NULL\n",
      "------------------------\n",
      "3\n",
      "2\n",
      "1\n",
      "NULL\n",
      "NULL\n",
      "NULL\n",
      "NULL\n",
      "------------------------\n"
     ]
    }
   ],
   "source": [
    "for(auto x: uniq_bin_search_trees)\n",
    "{\n",
    "    print_trees_preorder(x);\n",
    "    cout << \"------------------------\" << \"\\n\";\n",
    "}"
   ]
  },
  {
   "cell_type": "code",
   "execution_count": 10,
   "id": "statewide-summit",
   "metadata": {},
   "outputs": [],
   "source": [
    "// ---------- Great Work --------------"
   ]
  },
  {
   "cell_type": "code",
   "execution_count": 2,
   "id": "anticipated-islam",
   "metadata": {},
   "outputs": [],
   "source": [
    "class TreeNode\n",
    "{\n",
    "    public:\n",
    "        int val;\n",
    "        TreeNode* left;\n",
    "        TreeNode* right;\n",
    "        TreeNode(): val(0), left(NULL), right(NULL){}\n",
    "        TreeNode(int x): val(x), left(NULL), right(NULL){}\n",
    "};"
   ]
  },
  {
   "cell_type": "code",
   "execution_count": 3,
   "id": "taken-grammar",
   "metadata": {},
   "outputs": [],
   "source": [
    "TreeNode* node_1 = new TreeNode(3);\n",
    "TreeNode* node_2 = new TreeNode(1);\n",
    "TreeNode* node_3 = new TreeNode(4);\n",
    "TreeNode* node_4 = new TreeNode(2);\n",
    "node_1 -> left = node_2;\n",
    "node_1 -> right = node_3;\n",
    "node_3 -> left = node_4;"
   ]
  },
  {
   "cell_type": "code",
   "execution_count": 4,
   "id": "meaning-johnston",
   "metadata": {},
   "outputs": [],
   "source": [
    "std::pair< int, int > recover_tree(TreeNode *root, bool &solution_found, unordered_map< int, TreeNode* > &index_node_map)\n",
    "{\n",
    "    int left_max = -1, left_min = -1, right_min = -1, right_max = -1;\n",
    "    if(root -> left)\n",
    "    {\n",
    "        if(root -> val < root -> left -> val)\n",
    "        {\n",
    "            int temp;\n",
    "            temp = root -> left -> val;\n",
    "            root -> left -> val = root -> val;\n",
    "            root -> val = temp;\n",
    "            solution_found = true;\n",
    "            return make_pair(root -> val, root -> left -> val);\n",
    "        }\n",
    "        pair< int, int > local_min = recover_tree(root -> left, solution_found, index_node_map);\n",
    "        if(not solution_found)\n",
    "        {\n",
    "            if(root -> val < local_min.second)\n",
    "            {\n",
    "                int temp = root -> val;\n",
    "                root -> val = local_min.second;\n",
    "                auto find_iter = index_node_map.find(local_min.second);\n",
    "                if(find_iter != index_node_map.end())\n",
    "                {\n",
    "                    TreeNode* node_to_change = find_iter -> second;\n",
    "                    node_to_change -> val = temp;\n",
    "                }\n",
    "                local_min.second = temp;\n",
    "                solution_found = true;\n",
    "                return make_pair(root -> val, local_min.second);\n",
    "            }\n",
    "            else\n",
    "            {\n",
    "                left_min = local_min.first;\n",
    "            }\n",
    "        }\n",
    "        else\n",
    "        {\n",
    "            return local_min;\n",
    "        }\n",
    "    }\n",
    "    if(root -> right)\n",
    "    {\n",
    "        if(root -> val > root -> right -> val)\n",
    "        {\n",
    "            int temp;\n",
    "            temp = root -> val;\n",
    "            root -> val = root -> right -> val;\n",
    "            root -> right -> val = temp;\n",
    "            solution_found = true;\n",
    "            return make_pair(root -> val, root -> right -> val);\n",
    "        }\n",
    "        pair< int, int > local_max = recover_tree(root -> right, solution_found, index_node_map);\n",
    "        if(not solution_found)\n",
    "        {\n",
    "            if(root -> val > local_max.first)\n",
    "            {\n",
    "                int temp = root -> val;\n",
    "                root -> val = local_max.first;\n",
    "                auto find_iter = index_node_map.find(local_max.first);\n",
    "                if(find_iter != index_node_map.end())\n",
    "                {\n",
    "                    TreeNode* node_to_change = find_iter -> second;\n",
    "                    node_to_change -> val = temp;\n",
    "                }\n",
    "                local_max.first = temp;\n",
    "                solution_found = true;\n",
    "                return make_pair(root -> val, local_max.first);\n",
    "            }\n",
    "            else\n",
    "            {\n",
    "                right_max = local_max.second;\n",
    "            }\n",
    "        }\n",
    "        else\n",
    "        {\n",
    "            return local_max;\n",
    "        }\n",
    "    }\n",
    "    left_min = left_min != -1 ? left_min : root -> val;\n",
    "    right_max = right_max != -1 ? right_max : root -> val;\n",
    "    cout << \"left_min: \" << left_min << \" right_max: \" << right_max << \"\\n\";\n",
    "    index_node_map.insert(make_pair(root -> val, root));\n",
    "    return make_pair(left_min, right_max);\n",
    "}"
   ]
  },
  {
   "cell_type": "code",
   "execution_count": null,
   "id": "owned-david",
   "metadata": {},
   "outputs": [],
   "source": [
    "std::pair< int, int > recover_tree(TreeNode *root, bool &solution_found, unordered_map< int, TreeNode* > &index_node_map, int min, int max, bool is_left)\n",
    "{\n",
    "    int left_max = -1, left_min = -1, right_min = -1, right_max = -1;\n",
    "    if(is_left)\n",
    "    {\n",
    "        if(root -> val > min)\n",
    "        {\n",
    "            int temp = root -> val;\n",
    "            root -> val = min;\n",
    "            auto find_iter = index_node_map.find(min);\n",
    "            if(find_iter != index_node_map.end())\n",
    "            {\n",
    "                find_iiter -> second -> val = temp;\n",
    "            }\n",
    "            min = temp;\n",
    "            solution_found = true;\n",
    "            return make_pair(root -> val, min);\n",
    "        }\n",
    "    }\n",
    "    if(not is_left)\n",
    "    {\n",
    "        if(root -> val < max)\n",
    "        {\n",
    "            int temp = root -> val;\n",
    "            root -> val = max;\n",
    "            auto find_iter = index_node_map.find(max);\n",
    "            if(find_iter != index_node_map.end())\n",
    "            {\n",
    "                find_iter -> second -> val = temp;\n",
    "            }\n",
    "            max = temp;\n",
    "            solution_found = true;\n",
    "            return make_pair(root -> val, max);\n",
    "        }\n",
    "    }\n",
    "    if(root -> left)\n",
    "    {\n",
    "        if(root -> val < root -> left -> val)\n",
    "        {\n",
    "            int temp;\n",
    "            temp = root -> left -> val;\n",
    "            root -> left -> val = root -> val;\n",
    "            root -> val = temp;\n",
    "            solution_found = true;\n",
    "            return make_pair(root -> val, root -> left -> val);\n",
    "        }\n",
    "        pair< int, int > local_min = recover_tree(root -> left, solution_found, index_node_map, root -> val, max, true);\n",
    "        if(not solution_found)\n",
    "        {\n",
    "            if(root -> val < local_min.second)\n",
    "            {\n",
    "                int temp = root -> val;\n",
    "                root -> val = local_min.second;\n",
    "                auto find_iter = index_node_map.find(local_min.second);\n",
    "                if(find_iter != index_node_map.end())\n",
    "                {\n",
    "                    TreeNode* node_to_change = find_iter -> second;\n",
    "                    node_to_change -> val = temp;\n",
    "                }\n",
    "                local_min.second = temp;\n",
    "                solution_found = true;\n",
    "                return make_pair(root -> val, local_min.second);\n",
    "            }\n",
    "            else\n",
    "            {\n",
    "                left_min = local_min.first;\n",
    "            }\n",
    "        }\n",
    "        else\n",
    "        {\n",
    "            return local_min;\n",
    "        }\n",
    "    }\n",
    "    if(root -> right)\n",
    "    {\n",
    "        if(root -> val > root -> right -> val)\n",
    "        {\n",
    "            int temp;\n",
    "            temp = root -> val;\n",
    "            root -> val = root -> right -> val;\n",
    "            root -> right -> val = temp;\n",
    "            solution_found = true;\n",
    "            return make_pair(root -> val, root -> right -> val);\n",
    "        }\n",
    "        pair< int, int > local_max = recover_tree(root -> right, solution_found, index_node_map);\n",
    "        if(not solution_found)\n",
    "        {\n",
    "            if(root -> val > local_max.first)\n",
    "            {\n",
    "                int temp = root -> val;\n",
    "                root -> val = local_max.first;\n",
    "                auto find_iter = index_node_map.find(local_max.first);\n",
    "                if(find_iter != index_node_map.end())\n",
    "                {\n",
    "                    TreeNode* node_to_change = find_iter -> second;\n",
    "                    node_to_change -> val = temp;\n",
    "                }\n",
    "                local_max.first = temp;\n",
    "                solution_found = true;\n",
    "                return make_pair(root -> val, local_max.first);\n",
    "            }\n",
    "            else\n",
    "            {\n",
    "                right_max = local_max.second;\n",
    "            }\n",
    "        }\n",
    "        else\n",
    "        {\n",
    "            return local_max;\n",
    "        }\n",
    "    }\n",
    "    left_min = left_min != -1 ? left_min : root -> val;\n",
    "    right_max = right_max != -1 ? right_max : root -> val;\n",
    "    cout << \"left_min: \" << left_min << \" right_max: \" << right_max << \"\\n\";\n",
    "    index_node_map.insert(make_pair(root -> val, root));\n",
    "    return make_pair(left_min, right_max);\n",
    "}"
   ]
  },
  {
   "cell_type": "code",
   "execution_count": 4,
   "id": "continent-onion",
   "metadata": {},
   "outputs": [],
   "source": [
    "TreeNode* pred = NULL;\n",
    "TreeNode* first = NULL;\n",
    "TreeNode* second = NULL;"
   ]
  },
  {
   "cell_type": "code",
   "execution_count": 5,
   "id": "graphic-pittsburgh",
   "metadata": {},
   "outputs": [],
   "source": [
    "void recover_tree_novel(TreeNode *root)\n",
    "{\n",
    "    if(not root)\n",
    "    {\n",
    "        return;\n",
    "    }\n",
    "    recover_tree_novel(root -> left);\n",
    "    if(pred and not first and not second and pred -> val > root -> val)\n",
    "    {\n",
    "        first = pred;\n",
    "        second = root;\n",
    "    }\n",
    "    else if(pred and first and second and pred -> val > root -> val)\n",
    "    {\n",
    "        second = root;\n",
    "    }\n",
    "    pred = root;\n",
    "    recover_tree_novel(root -> right);\n",
    "    return;\n",
    "}"
   ]
  },
  {
   "cell_type": "code",
   "execution_count": 6,
   "id": "hidden-chassis",
   "metadata": {},
   "outputs": [],
   "source": [
    "void recoverTreeNovel(TreeNode* root)\n",
    "{\n",
    "    if(root)\n",
    "    {\n",
    "        recover_tree_novel(root);\n",
    "        int temp = first -> val;\n",
    "        first -> val = second -> val;\n",
    "        second -> val = temp;\n",
    "        cout << first -> val << \" \" << second -> val << \"\\n\";\n",
    "    }\n",
    "    return;\n",
    "}"
   ]
  },
  {
   "cell_type": "code",
   "execution_count": 5,
   "id": "surprised-polish",
   "metadata": {},
   "outputs": [],
   "source": [
    "void recoverTree(TreeNode* root)\n",
    "{\n",
    "    bool solution_found = false;\n",
    "    unordered_map< int, TreeNode* > index_node_map;\n",
    "    if(root)\n",
    "    {\n",
    "        pair< int, int > change_made = recover_tree(root, solution_found, index_node_map);\n",
    "        cout << \"first: \" << change_made.first << \" \" << \"second: \" << change_made.second << \"\\n\";\n",
    "    }\n",
    "    return;\n",
    "}"
   ]
  },
  {
   "cell_type": "code",
   "execution_count": 15,
   "id": "authentic-beverage",
   "metadata": {},
   "outputs": [
    {
     "name": "stdout",
     "output_type": "stream",
     "text": [
      "2\n"
     ]
    }
   ],
   "source": [
    "unordered_map< int, int > check_map;\n",
    "check_map.insert(make_pair(1,2));\n",
    "auto find_iter = check_map.find(1);\n",
    "if(find_iter != check_map.end())\n",
    "{\n",
    "    cout << find_iter -> second << \"\\n\";\n",
    "}"
   ]
  },
  {
   "cell_type": "code",
   "execution_count": 6,
   "id": "satellite-smith",
   "metadata": {},
   "outputs": [
    {
     "name": "stdout",
     "output_type": "stream",
     "text": [
      "left_min: 1 right_max: 1\n",
      "left_min: 2 right_max: 2\n",
      "left_min: 2 right_max: 4\n",
      "first: 2 second: 3\n"
     ]
    }
   ],
   "source": [
    "recoverTree(node_1);"
   ]
  },
  {
   "cell_type": "code",
   "execution_count": 8,
   "id": "virgin-browser",
   "metadata": {},
   "outputs": [
    {
     "name": "stdout",
     "output_type": "stream",
     "text": [
      "first: 3 second: 1\n"
     ]
    }
   ],
   "source": [
    "TreeNode* t_node_1 = new TreeNode(1);\n",
    "TreeNode* t_node_2 = new TreeNode(2);\n",
    "TreeNode* t_node_3 = new TreeNode(3);\n",
    "t_node_1 -> left = t_node_3;\n",
    "t_node_3 -> right = t_node_2;\n",
    "recoverTree(t_node_1);"
   ]
  },
  {
   "cell_type": "code",
   "execution_count": 7,
   "id": "current-warner",
   "metadata": {},
   "outputs": [
    {
     "name": "stdout",
     "output_type": "stream",
     "text": [
      "2 3\n"
     ]
    }
   ],
   "source": [
    "recoverTreeNovel(node_1);"
   ]
  },
  {
   "cell_type": "code",
   "execution_count": 8,
   "id": "thick-genius",
   "metadata": {},
   "outputs": [],
   "source": [
    "// --------------"
   ]
  },
  {
   "cell_type": "code",
   "execution_count": 24,
   "id": "alternate-toddler",
   "metadata": {},
   "outputs": [],
   "source": [
    "TreeNode* b_node_1 = new TreeNode(-10);\n",
    "TreeNode* b_node_2 = new TreeNode(9);\n",
    "TreeNode* b_node_3 = new TreeNode(20);\n",
    "TreeNode* b_node_4 = new TreeNode(15);\n",
    "TreeNode* b_node_5 = new TreeNode(7);"
   ]
  },
  {
   "cell_type": "code",
   "execution_count": 25,
   "id": "oriental-portland",
   "metadata": {},
   "outputs": [],
   "source": [
    "b_node_1 -> left = b_node_2;\n",
    "b_node_1 -> right = b_node_3;\n",
    "b_node_3 -> left = b_node_4;\n",
    "b_node_3 -> right = b_node_5;"
   ]
  },
  {
   "cell_type": "code",
   "execution_count": 27,
   "id": "pressing-handle",
   "metadata": {},
   "outputs": [],
   "source": [
    "int post_order(TreeNode* root, int &max_val)\n",
    "{\n",
    "    if(not root)\n",
    "    {\n",
    "        return 0;\n",
    "    }\n",
    "    int left_val = post_order(root -> left, max_val);\n",
    "    int right_val = post_order(root -> right, max_val);\n",
    "    int total = max(root -> val, max(max(left_val + right_val + root -> val, left_val + root -> val), right_val + root -> val));\n",
    "    cout << \"total: \" << total << \"\\n\";\n",
    "    max_val = max(max_val, total);\n",
    "    cout << \"max_val: \" << max_val << \"\\n\";\n",
    "    return max(root -> val, max(root -> val + left_val, root -> val + right_val));\n",
    "}"
   ]
  },
  {
   "cell_type": "code",
   "execution_count": 28,
   "id": "decent-syndicate",
   "metadata": {},
   "outputs": [
    {
     "name": "stdout",
     "output_type": "stream",
     "text": [
      "total: 9\n",
      "max_val: 9\n",
      "total: 15\n",
      "max_val: 15\n",
      "total: 7\n",
      "max_val: 15\n",
      "total: 42\n",
      "max_val: 42\n",
      "total: 34\n",
      "max_val: 42\n"
     ]
    }
   ],
   "source": [
    "int max_val = -1001;\n",
    "int max_val_ret = post_order(b_node_1, max_val);"
   ]
  },
  {
   "cell_type": "code",
   "execution_count": 29,
   "id": "economic-defendant",
   "metadata": {},
   "outputs": [
    {
     "data": {
      "text/plain": [
       "42"
      ]
     },
     "execution_count": 29,
     "metadata": {},
     "output_type": "execute_result"
    }
   ],
   "source": [
    "max_val"
   ]
  },
  {
   "cell_type": "code",
   "execution_count": 2,
   "id": "tracked-electron",
   "metadata": {},
   "outputs": [],
   "source": [
    "// ----------------------"
   ]
  },
  {
   "cell_type": "code",
   "execution_count": 8,
   "id": "finite-dividend",
   "metadata": {},
   "outputs": [],
   "source": [
    "// vector< int > lcn{100,4,200,1,3,2};\n",
    "vector< int > lcn{0,3,7,2,5,8,4,6,0,1};"
   ]
  },
  {
   "cell_type": "code",
   "execution_count": 9,
   "id": "accepted-oregon",
   "metadata": {},
   "outputs": [],
   "source": [
    "unordered_set< int > lcn_set(lcn.begin(), lcn.end());"
   ]
  },
  {
   "cell_type": "code",
   "execution_count": 10,
   "id": "sporting-isolation",
   "metadata": {},
   "outputs": [],
   "source": [
    "int max_seq = 0;"
   ]
  },
  {
   "cell_type": "code",
   "execution_count": 11,
   "id": "attended-hawaiian",
   "metadata": {},
   "outputs": [],
   "source": [
    "for(auto x: lcn_set)\n",
    "{\n",
    "    auto find_iter = lcn_set.find(x - 1);\n",
    "    if(find_iter == lcn_set.end())\n",
    "    {\n",
    "        int num = x;\n",
    "        int local_max = 0;\n",
    "        while(lcn_set.find(num) != lcn_set.end())\n",
    "        {\n",
    "            local_max += 1;\n",
    "            max_seq = max(max_seq, local_max);\n",
    "            num += 1;\n",
    "        }\n",
    "    }\n",
    "}"
   ]
  },
  {
   "cell_type": "code",
   "execution_count": 12,
   "id": "deadly-joint",
   "metadata": {},
   "outputs": [
    {
     "data": {
      "text/plain": [
       "9"
      ]
     },
     "execution_count": 12,
     "metadata": {},
     "output_type": "execute_result"
    }
   ],
   "source": [
    "max_seq"
   ]
  },
  {
   "cell_type": "code",
   "execution_count": 13,
   "id": "plain-officer",
   "metadata": {},
   "outputs": [],
   "source": [
    "// -------------------"
   ]
  },
  {
   "cell_type": "code",
   "execution_count": 14,
   "id": "searching-machine",
   "metadata": {},
   "outputs": [],
   "source": [
    "vector< ll > vec{2,3,5,1,10,7};"
   ]
  },
  {
   "cell_type": "code",
   "execution_count": 15,
   "id": "amended-bahamas",
   "metadata": {},
   "outputs": [],
   "source": [
    "make_heap(vec.begin(), vec.end());"
   ]
  },
  {
   "cell_type": "code",
   "execution_count": 16,
   "id": "focused-nutrition",
   "metadata": {},
   "outputs": [
    {
     "data": {
      "text/plain": [
       "10"
      ]
     },
     "execution_count": 16,
     "metadata": {},
     "output_type": "execute_result"
    }
   ],
   "source": [
    "vec.front()"
   ]
  },
  {
   "cell_type": "code",
   "execution_count": 17,
   "id": "miniature-relationship",
   "metadata": {},
   "outputs": [],
   "source": [
    "pop_heap(vec.begin(), vec.end());"
   ]
  },
  {
   "cell_type": "code",
   "execution_count": 18,
   "id": "smart-voluntary",
   "metadata": {},
   "outputs": [
    {
     "data": {
      "text/plain": [
       "7"
      ]
     },
     "execution_count": 18,
     "metadata": {},
     "output_type": "execute_result"
    }
   ],
   "source": [
    "vec.front()"
   ]
  },
  {
   "cell_type": "code",
   "execution_count": 19,
   "id": "defined-station",
   "metadata": {},
   "outputs": [],
   "source": [
    "vec.pop_back();"
   ]
  },
  {
   "cell_type": "code",
   "execution_count": 20,
   "id": "contained-violence",
   "metadata": {},
   "outputs": [],
   "source": [
    "vec.push_back(100);"
   ]
  },
  {
   "cell_type": "code",
   "execution_count": 22,
   "id": "nonprofit-nutrition",
   "metadata": {},
   "outputs": [
    {
     "data": {
      "text/plain": [
       "7"
      ]
     },
     "execution_count": 22,
     "metadata": {},
     "output_type": "execute_result"
    }
   ],
   "source": [
    "vec.front()"
   ]
  },
  {
   "cell_type": "code",
   "execution_count": 23,
   "id": "hired-background",
   "metadata": {},
   "outputs": [],
   "source": [
    "push_heap(vec.begin(), vec.end());"
   ]
  },
  {
   "cell_type": "code",
   "execution_count": 24,
   "id": "valued-discount",
   "metadata": {},
   "outputs": [
    {
     "data": {
      "text/plain": [
       "100"
      ]
     },
     "execution_count": 24,
     "metadata": {},
     "output_type": "execute_result"
    }
   ],
   "source": [
    "vec.front()"
   ]
  },
  {
   "cell_type": "code",
   "execution_count": 25,
   "id": "lucky-hanging",
   "metadata": {},
   "outputs": [],
   "source": [
    "// -------------------"
   ]
  },
  {
   "cell_type": "code",
   "execution_count": 26,
   "id": "reduced-berry",
   "metadata": {},
   "outputs": [],
   "source": [
    "string s = \"Karthik Ragunath is a good boy\";"
   ]
  },
  {
   "cell_type": "code",
   "execution_count": 27,
   "id": "downtown-rates",
   "metadata": {},
   "outputs": [],
   "source": [
    "stringstream ss(s);"
   ]
  },
  {
   "cell_type": "code",
   "execution_count": 28,
   "id": "grave-mechanism",
   "metadata": {},
   "outputs": [],
   "source": [
    "string word;"
   ]
  },
  {
   "cell_type": "code",
   "execution_count": 29,
   "id": "suspended-radical",
   "metadata": {},
   "outputs": [],
   "source": [
    "vector< string > words;"
   ]
  },
  {
   "cell_type": "code",
   "execution_count": 30,
   "id": "pending-pathology",
   "metadata": {},
   "outputs": [],
   "source": [
    "while(ss >> word)\n",
    "{\n",
    "    words.push_back(word);\n",
    "}"
   ]
  },
  {
   "cell_type": "code",
   "execution_count": 31,
   "id": "superior-destiny",
   "metadata": {},
   "outputs": [
    {
     "data": {
      "text/plain": [
       "{ \"Karthik\", \"Ragunath\", \"is\", \"a\", \"good\", \"boy\" }"
      ]
     },
     "execution_count": 31,
     "metadata": {},
     "output_type": "execute_result"
    }
   ],
   "source": [
    "words"
   ]
  },
  {
   "cell_type": "code",
   "execution_count": 39,
   "id": "preliminary-documentation",
   "metadata": {},
   "outputs": [],
   "source": [
    "string a = \"123 245\";"
   ]
  },
  {
   "cell_type": "code",
   "execution_count": 40,
   "id": "supported-floor",
   "metadata": {},
   "outputs": [],
   "source": [
    "stringstream ss(a);"
   ]
  },
  {
   "cell_type": "code",
   "execution_count": 41,
   "id": "weighted-robert",
   "metadata": {},
   "outputs": [],
   "source": [
    "vector< int > numbers;"
   ]
  },
  {
   "cell_type": "code",
   "execution_count": 42,
   "id": "polished-mouse",
   "metadata": {},
   "outputs": [],
   "source": [
    "int number;"
   ]
  },
  {
   "cell_type": "code",
   "execution_count": 43,
   "id": "monthly-shipping",
   "metadata": {},
   "outputs": [],
   "source": [
    "while(ss >> number)\n",
    "{\n",
    "    numbers.push_back(number);\n",
    "}"
   ]
  },
  {
   "cell_type": "code",
   "execution_count": 44,
   "id": "mineral-department",
   "metadata": {},
   "outputs": [
    {
     "data": {
      "text/plain": [
       "{ 123, 245 }"
      ]
     },
     "execution_count": 44,
     "metadata": {},
     "output_type": "execute_result"
    }
   ],
   "source": [
    "numbers"
   ]
  },
  {
   "cell_type": "code",
   "execution_count": 45,
   "id": "earlier-details",
   "metadata": {},
   "outputs": [],
   "source": [
    "string num_1_str = to_string(numbers[0]);"
   ]
  },
  {
   "cell_type": "code",
   "execution_count": 46,
   "id": "changing-mother",
   "metadata": {},
   "outputs": [
    {
     "data": {
      "text/plain": [
       "\"123\""
      ]
     },
     "execution_count": 46,
     "metadata": {},
     "output_type": "execute_result"
    }
   ],
   "source": [
    "num_1_str"
   ]
  },
  {
   "cell_type": "code",
   "execution_count": 47,
   "id": "modern-gravity",
   "metadata": {},
   "outputs": [],
   "source": [
    "string check1 = \"a.karthikragunath\";\n",
    "string check2 = \"a.karthikragunath\";"
   ]
  },
  {
   "cell_type": "code",
   "execution_count": 48,
   "id": "indoor-investor",
   "metadata": {},
   "outputs": [
    {
     "name": "stdout",
     "output_type": "stream",
     "text": [
      "Yes\n"
     ]
    }
   ],
   "source": [
    "if(check1 == check2)\n",
    "{\n",
    "    cout << \"Yes\" << \"\\n\";\n",
    "}"
   ]
  },
  {
   "cell_type": "code",
   "execution_count": 49,
   "id": "configured-anthropology",
   "metadata": {},
   "outputs": [],
   "source": [
    "string check3 = \"a.karthikragunath06\";"
   ]
  },
  {
   "cell_type": "code",
   "execution_count": 51,
   "id": "killing-conflict",
   "metadata": {},
   "outputs": [
    {
     "name": "stdout",
     "output_type": "stream",
     "text": [
      "greater\n"
     ]
    }
   ],
   "source": [
    "if(check3.compare(check2) > 0)\n",
    "{\n",
    "    cout << \"greater\" << \"\\n\";\n",
    "}"
   ]
  },
  {
   "cell_type": "code",
   "execution_count": 52,
   "id": "personalized-warrior",
   "metadata": {},
   "outputs": [],
   "source": [
    "if(check2.compare(check3) > 0)\n",
    "{\n",
    "    cout << \"greater\" << \"\\n\";\n",
    "}"
   ]
  },
  {
   "cell_type": "code",
   "execution_count": 53,
   "id": "standing-marking",
   "metadata": {},
   "outputs": [
    {
     "name": "stdout",
     "output_type": "stream",
     "text": [
      "same\n"
     ]
    }
   ],
   "source": [
    "if(check2.compare(check1) == 0)\n",
    "{\n",
    "    cout << \"same\" << \"\\n\";\n",
    "}"
   ]
  },
  {
   "cell_type": "code",
   "execution_count": 62,
   "id": "ranking-calvin",
   "metadata": {},
   "outputs": [],
   "source": [
    "string paragraph = \"{]*&abc dcf}\""
   ]
  },
  {
   "cell_type": "code",
   "execution_count": 63,
   "id": "boring-science",
   "metadata": {},
   "outputs": [],
   "source": [
    "string delimiters = \"{}*&][]^ %#$\";"
   ]
  },
  {
   "cell_type": "code",
   "execution_count": 64,
   "id": "downtown-tourism",
   "metadata": {},
   "outputs": [],
   "source": [
    "int start_index = paragraph.find_first_not_of(delimiters, 0);"
   ]
  },
  {
   "cell_type": "code",
   "execution_count": 65,
   "id": "owned-portugal",
   "metadata": {},
   "outputs": [],
   "source": [
    "if(start_index == string::npos)\n",
    "{\n",
    "    cout << \"No Valid String\" << \"\\n\";\n",
    "}"
   ]
  },
  {
   "cell_type": "code",
   "execution_count": 66,
   "id": "plastic-dover",
   "metadata": {},
   "outputs": [],
   "source": [
    "int end_index = paragraph.find_first_of(delimiters, start_index);"
   ]
  },
  {
   "cell_type": "code",
   "execution_count": 67,
   "id": "perceived-america",
   "metadata": {},
   "outputs": [],
   "source": [
    "string valid_string = paragraph.substr(start_index, end_index - start_index);"
   ]
  },
  {
   "cell_type": "code",
   "execution_count": 68,
   "id": "cathedral-plymouth",
   "metadata": {},
   "outputs": [
    {
     "data": {
      "text/plain": [
       "\"abc\""
      ]
     },
     "execution_count": 68,
     "metadata": {},
     "output_type": "execute_result"
    }
   ],
   "source": [
    "valid_string"
   ]
  },
  {
   "cell_type": "code",
   "execution_count": 69,
   "id": "expressed-constraint",
   "metadata": {},
   "outputs": [],
   "source": [
    "// -------------------------------"
   ]
  },
  {
   "cell_type": "code",
   "execution_count": 74,
   "id": "upset-definition",
   "metadata": {},
   "outputs": [],
   "source": [
    "string k = \"karthik ragunath, ananda kumar\";"
   ]
  },
  {
   "cell_type": "code",
   "execution_count": 75,
   "id": "drawn-thriller",
   "metadata": {},
   "outputs": [],
   "source": [
    "stringstream ss(k);\n",
    "string token;\n",
    "vector< string > tokens;"
   ]
  },
  {
   "cell_type": "code",
   "execution_count": 76,
   "id": "democratic-wallet",
   "metadata": {},
   "outputs": [],
   "source": [
    "while(getline(ss, token, ','))\n",
    "{\n",
    "    tokens.push_back(token);\n",
    "    if(ss.peek() == ' ')\n",
    "    {\n",
    "        ss.ignore();\n",
    "    }\n",
    "}"
   ]
  },
  {
   "cell_type": "code",
   "execution_count": 77,
   "id": "recognized-cement",
   "metadata": {},
   "outputs": [
    {
     "data": {
      "text/plain": [
       "{ \"karthik ragunath\", \"ananda kumar\" }"
      ]
     },
     "execution_count": 77,
     "metadata": {},
     "output_type": "execute_result"
    }
   ],
   "source": [
    "tokens"
   ]
  },
  {
   "cell_type": "code",
   "execution_count": 78,
   "id": "attempted-assist",
   "metadata": {},
   "outputs": [],
   "source": [
    "// ---------------"
   ]
  },
  {
   "cell_type": "code",
   "execution_count": 79,
   "id": "static-province",
   "metadata": {},
   "outputs": [],
   "source": [
    "string int_str = \"1234567890\";"
   ]
  },
  {
   "cell_type": "code",
   "execution_count": 80,
   "id": "chicken-season",
   "metadata": {},
   "outputs": [],
   "source": [
    "bool is_str = all_of(int_str.begin(), int_str.end(), ::isdigit);"
   ]
  },
  {
   "cell_type": "code",
   "execution_count": 81,
   "id": "large-jordan",
   "metadata": {},
   "outputs": [
    {
     "data": {
      "text/plain": [
       "true"
      ]
     },
     "execution_count": 81,
     "metadata": {},
     "output_type": "execute_result"
    }
   ],
   "source": [
    "is_str"
   ]
  },
  {
   "cell_type": "code",
   "execution_count": 82,
   "id": "described-scheduling",
   "metadata": {},
   "outputs": [],
   "source": [
    "// --------------------"
   ]
  },
  {
   "cell_type": "code",
   "execution_count": 86,
   "id": "heavy-camera",
   "metadata": {},
   "outputs": [],
   "source": [
    "string int_str = \"1234567890, 123456\";\n",
    "int number;\n",
    "vector< int > numbers;\n",
    "stringstream ss(int_str);\n",
    "while(ss >> number)\n",
    "{\n",
    "    numbers.push_back(number);\n",
    "    if(ss.peek() == ',')\n",
    "    {\n",
    "        ss.ignore();\n",
    "    }\n",
    "//     if(ss.peek() == ' ')\n",
    "//     {\n",
    "//         ss.ignore();\n",
    "//     }\n",
    "}"
   ]
  },
  {
   "cell_type": "code",
   "execution_count": 87,
   "id": "super-customs",
   "metadata": {},
   "outputs": [
    {
     "data": {
      "text/plain": [
       "{ 1234567890, 123456 }"
      ]
     },
     "execution_count": 87,
     "metadata": {},
     "output_type": "execute_result"
    }
   ],
   "source": [
    "numbers"
   ]
  },
  {
   "cell_type": "code",
   "execution_count": 88,
   "id": "tamil-funds",
   "metadata": {},
   "outputs": [],
   "source": [
    "// ----------------"
   ]
  },
  {
   "cell_type": "code",
   "execution_count": null,
   "id": "sufficient-surgeon",
   "metadata": {},
   "outputs": [],
   "source": []
  }
 ],
 "metadata": {
  "kernelspec": {
   "display_name": "C++14",
   "language": "C++14",
   "name": "xcpp14"
  },
  "language_info": {
   "codemirror_mode": "text/x-c++src",
   "file_extension": ".cpp",
   "mimetype": "text/x-c++src",
   "name": "c++",
   "version": "14"
  }
 },
 "nbformat": 4,
 "nbformat_minor": 5
}
